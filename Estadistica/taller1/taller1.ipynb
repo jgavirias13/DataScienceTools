{
 "cells": [
  {
   "cell_type": "markdown",
   "metadata": {},
   "source": [
    "# Taller 1\n",
    "\n",
    "**Por:** Juan Pablo Gaviria Salazar"
   ]
  },
  {
   "cell_type": "markdown",
   "metadata": {},
   "source": [
    "## Calentamiento"
   ]
  },
  {
   "cell_type": "code",
   "execution_count": 2,
   "metadata": {},
   "outputs": [],
   "source": [
    "# Importacion de librerias\n",
    "import pandas as pd\n",
    "import numpy as np\n",
    "from scipy.stats import mode\n",
    "from sklearn.neighbors import KNeighborsClassifier"
   ]
  },
  {
   "cell_type": "code",
   "execution_count": 5,
   "metadata": {},
   "outputs": [
    {
     "output_type": "execute_result",
     "data": {
      "text/plain": "     x1   x2  y\n0   0.8  0.8  1\n1   0.8  1.2  1\n2   3.8  2.8  2\n3   4.2  3.2  2\n4   1.0  1.0  1\n5   1.2  1.2  1\n6   4.2  2.8  2\n7   4.4  2.8  2\n8   3.5  1.0  3\n9   4.0  1.0  3\n10  3.8  0.5  3\n11  4.0  0.7  3",
      "text/html": "<div>\n<style scoped>\n    .dataframe tbody tr th:only-of-type {\n        vertical-align: middle;\n    }\n\n    .dataframe tbody tr th {\n        vertical-align: top;\n    }\n\n    .dataframe thead th {\n        text-align: right;\n    }\n</style>\n<table border=\"1\" class=\"dataframe\">\n  <thead>\n    <tr style=\"text-align: right;\">\n      <th></th>\n      <th>x1</th>\n      <th>x2</th>\n      <th>y</th>\n    </tr>\n  </thead>\n  <tbody>\n    <tr>\n      <th>0</th>\n      <td>0.8</td>\n      <td>0.8</td>\n      <td>1</td>\n    </tr>\n    <tr>\n      <th>1</th>\n      <td>0.8</td>\n      <td>1.2</td>\n      <td>1</td>\n    </tr>\n    <tr>\n      <th>2</th>\n      <td>3.8</td>\n      <td>2.8</td>\n      <td>2</td>\n    </tr>\n    <tr>\n      <th>3</th>\n      <td>4.2</td>\n      <td>3.2</td>\n      <td>2</td>\n    </tr>\n    <tr>\n      <th>4</th>\n      <td>1.0</td>\n      <td>1.0</td>\n      <td>1</td>\n    </tr>\n    <tr>\n      <th>5</th>\n      <td>1.2</td>\n      <td>1.2</td>\n      <td>1</td>\n    </tr>\n    <tr>\n      <th>6</th>\n      <td>4.2</td>\n      <td>2.8</td>\n      <td>2</td>\n    </tr>\n    <tr>\n      <th>7</th>\n      <td>4.4</td>\n      <td>2.8</td>\n      <td>2</td>\n    </tr>\n    <tr>\n      <th>8</th>\n      <td>3.5</td>\n      <td>1.0</td>\n      <td>3</td>\n    </tr>\n    <tr>\n      <th>9</th>\n      <td>4.0</td>\n      <td>1.0</td>\n      <td>3</td>\n    </tr>\n    <tr>\n      <th>10</th>\n      <td>3.8</td>\n      <td>0.5</td>\n      <td>3</td>\n    </tr>\n    <tr>\n      <th>11</th>\n      <td>4.0</td>\n      <td>0.7</td>\n      <td>3</td>\n    </tr>\n  </tbody>\n</table>\n</div>"
     },
     "metadata": {},
     "execution_count": 5
    }
   ],
   "source": [
    "# Definicion del conjunto de datos\n",
    "data = pd.read_csv('data_calentamiento.csv', names=['x1','x2','y'])\n",
    "data"
   ]
  },
  {
   "cell_type": "code",
   "execution_count": 5,
   "metadata": {},
   "outputs": [],
   "source": [
    "# Definicion de la funcion clasificadora\n",
    "# Se realiza la clasificacion con distancia euclidea\n",
    "def kClasificador(data,k,x1,x2):\n",
    "    distanciaX1 = np.power(x1-data.x1.values,2)\n",
    "    distanciaX2 = np.power(x2-data.x2.values,2)\n",
    "    distanciaEuc = np.sqrt(distanciaX2+distanciaX1)\n",
    "    minKElements = np.argpartition(distanciaEuc, k)\n",
    "    minKElements = minKElements[:k]\n",
    "    yValues = data.y.values[minKElements]\n",
    "    return mode(yValues).mode"
   ]
  },
  {
   "cell_type": "markdown",
   "metadata": {},
   "source": [
    "### Precisión del conjunto de entrenamiento"
   ]
  },
  {
   "cell_type": "code",
   "execution_count": 6,
   "metadata": {},
   "outputs": [
    {
     "output_type": "stream",
     "name": "stdout",
     "text": "Error en el conjunto de entrenamiento: 0.0%\n"
    }
   ],
   "source": [
    "# Evaluacion del conjunto de entrenamiento\n",
    "evaluacion = []\n",
    "aciertos = 0\n",
    "k = 2\n",
    "for i in range(data.x1.size):\n",
    "    resultado = kClasificador(data, k, data.x1.values[i], data.x2.values[i])\n",
    "    evaluacion.append(resultado)\n",
    "    if(data.y.values[i] == resultado):\n",
    "        aciertos += 1\n",
    "error = 1 - (aciertos/data.y.size)\n",
    "print('Error en el conjunto de entrenamiento: {0:.1%}'.format(error))"
   ]
  },
  {
   "cell_type": "markdown",
   "metadata": {},
   "source": [
    "### Precision de un punto"
   ]
  },
  {
   "cell_type": "code",
   "execution_count": 7,
   "metadata": {},
   "outputs": [
    {
     "output_type": "stream",
     "name": "stdout",
     "text": "La clasificacion de la observación (3.0, 2,0) es [2]\n"
    }
   ],
   "source": [
    "# Evaluacion del punto P=(3.0,2.0)\n",
    "evaluacion = kClasificador(data, k, 3, 2)\n",
    "print('La clasificacion de la observación (3.0, 2,0) es ' + str(evaluacion))"
   ]
  },
  {
   "cell_type": "markdown",
   "metadata": {},
   "source": [
    "Este punto con k=2 saca error, debido a que se presenta empate"
   ]
  },
  {
   "cell_type": "markdown",
   "metadata": {},
   "source": [
    "### Valor de k con mayor precisión"
   ]
  },
  {
   "cell_type": "code",
   "execution_count": 8,
   "metadata": {},
   "outputs": [
    {
     "output_type": "execute_result",
     "data": {
      "text/plain": "   k Error\n0  1  0.0%\n1  2  0.0%\n2  3  0.0%\n3  4  0.0%\n4  5  0.0%\n5  6  0.0%",
      "text/html": "<div>\n<style scoped>\n    .dataframe tbody tr th:only-of-type {\n        vertical-align: middle;\n    }\n\n    .dataframe tbody tr th {\n        vertical-align: top;\n    }\n\n    .dataframe thead th {\n        text-align: right;\n    }\n</style>\n<table border=\"1\" class=\"dataframe\">\n  <thead>\n    <tr style=\"text-align: right;\">\n      <th></th>\n      <th>k</th>\n      <th>Error</th>\n    </tr>\n  </thead>\n  <tbody>\n    <tr>\n      <th>0</th>\n      <td>1</td>\n      <td>0.0%</td>\n    </tr>\n    <tr>\n      <th>1</th>\n      <td>2</td>\n      <td>0.0%</td>\n    </tr>\n    <tr>\n      <th>2</th>\n      <td>3</td>\n      <td>0.0%</td>\n    </tr>\n    <tr>\n      <th>3</th>\n      <td>4</td>\n      <td>0.0%</td>\n    </tr>\n    <tr>\n      <th>4</th>\n      <td>5</td>\n      <td>0.0%</td>\n    </tr>\n    <tr>\n      <th>5</th>\n      <td>6</td>\n      <td>0.0%</td>\n    </tr>\n  </tbody>\n</table>\n</div>"
     },
     "metadata": {},
     "execution_count": 8
    }
   ],
   "source": [
    "# Se evalua el conjunto de entrenamiento con diferentes k\n",
    "ks = [1, 2, 3, 4, 5, 6]\n",
    "precisiones = []\n",
    "for k in ks:\n",
    "    aciertos = 0\n",
    "    for i in range(data.x1.size):\n",
    "        resultado = kClasificador(data, k, data.x1.values[i], data.x2.values[i])\n",
    "        if(data.y.values[i] == resultado):\n",
    "            aciertos += 1\n",
    "    precisiones.append(1-(aciertos/data.y.size))\n",
    "precisiones = ['{0:.1%}'.format(prec) for prec in precisiones]\n",
    "tablaEvaluacion = pd.DataFrame({\"k\":ks,\"Error\":precisiones})\n",
    "tablaEvaluacion\n"
   ]
  },
  {
   "cell_type": "markdown",
   "metadata": {},
   "source": [
    "### Distancias ponderadas"
   ]
  },
  {
   "cell_type": "code",
   "execution_count": 27,
   "metadata": {},
   "outputs": [],
   "source": [
    "# Se crea metodo de knn con distancias ponderadas\n",
    "def kClasificadorPonderado(data,k,x1,x2):\n",
    "    distanciaX1 = np.power(x1-data.x1.values,2)\n",
    "    distanciaX2 = np.power(x2-data.x2.values,2)\n",
    "    distanciaEuc = np.sqrt(distanciaX2+distanciaX1)\n",
    "    minKElements = np.argpartition(distanciaEuc,k)\n",
    "    minKElements = minKElements[:k]\n",
    "    dk = minKElements[k-1]\n",
    "    d1 = minKElements[0]\n",
    "    if(distanciaEuc[dk] == distanciaEuc[d1]):\n",
    "        yValues = data.y.values[minKElements]\n",
    "        result = mode(yValues).mode[0]\n",
    "    else:\n",
    "        w = {}\n",
    "        for element in minKElements:\n",
    "            weight = (distanciaEuc[dk]-distanciaEuc[element])/(distanciaEuc[dk]-distanciaEuc[d1])\n",
    "            yvalue = data.y.values[element]\n",
    "            w[yvalue] = w.get(yvalue,0)+weight\n",
    "        result = max(w, key=w.get)\n",
    "    return result"
   ]
  },
  {
   "cell_type": "code",
   "execution_count": 28,
   "metadata": {},
   "outputs": [
    {
     "output_type": "stream",
     "name": "stdout",
     "text": "Y resultado: 3\n"
    }
   ],
   "source": [
    "k=5\n",
    "x1=3\n",
    "x2=2\n",
    "result = kClasificadorPonderado(data,k,x1,x2)\n",
    "print('Y resultado: '+str(result))"
   ]
  },
  {
   "cell_type": "markdown",
   "metadata": {},
   "source": [
    "## 3 Implementación"
   ]
  },
  {
   "cell_type": "markdown",
   "metadata": {},
   "source": [
    "### Evaluación con los datos de entrenamiento"
   ]
  },
  {
   "cell_type": "code",
   "execution_count": 8,
   "metadata": {},
   "outputs": [
    {
     "output_type": "execute_result",
     "data": {
      "text/plain": "KNeighborsClassifier(algorithm='auto', leaf_size=30, metric='minkowski',\n                     metric_params=None, n_jobs=None, n_neighbors=2, p=2,\n                     weights='uniform')"
     },
     "metadata": {},
     "execution_count": 8
    }
   ],
   "source": [
    "# Instanciacion del modelo\n",
    "k = 2\n",
    "knn = KNeighborsClassifier(k)\n",
    "x_train = pd.DataFrame({\"x1\":data.x1, \"x2\":data.x2})\n",
    "knn.fit(x_train,data.y)"
   ]
  },
  {
   "cell_type": "code",
   "execution_count": 11,
   "metadata": {},
   "outputs": [
    {
     "output_type": "stream",
     "name": "stdout",
     "text": "Precisión sobre el conjunto de entrenamiento: 100.0%\n"
    }
   ],
   "source": [
    "# Evaluacion con el conjunto de entrenamiento\n",
    "print('Precisión sobre el conjunto de entrenamiento: {0:.1%}'\n",
    "     .format(knn.score(x_train, data.y)))"
   ]
  },
  {
   "cell_type": "markdown",
   "metadata": {},
   "source": [
    "### Evaluación con Datos Fisher"
   ]
  },
  {
   "cell_type": "code",
   "execution_count": 14,
   "metadata": {},
   "outputs": [
    {
     "output_type": "execute_result",
     "data": {
      "text/plain": "   genero  estatura  peso  long_pie  long_brazo  ancho_espalda  diam_craneo  \\\n0       0       159    49      36.0        68.0           42.0         57.0   \n1       1       164    62      39.0        73.0           44.0         55.0   \n2       0       172    65      38.0        75.0           48.0         58.0   \n3       0       167    52      37.0        73.0           41.5         58.0   \n4       0       164    51      36.0        71.0           44.5         54.0   \n\n   long_rod_tob  \n0          40.0  \n1          44.0  \n2          44.0  \n3          44.0  \n4          40.0  ",
      "text/html": "<div>\n<style scoped>\n    .dataframe tbody tr th:only-of-type {\n        vertical-align: middle;\n    }\n\n    .dataframe tbody tr th {\n        vertical-align: top;\n    }\n\n    .dataframe thead th {\n        text-align: right;\n    }\n</style>\n<table border=\"1\" class=\"dataframe\">\n  <thead>\n    <tr style=\"text-align: right;\">\n      <th></th>\n      <th>genero</th>\n      <th>estatura</th>\n      <th>peso</th>\n      <th>long_pie</th>\n      <th>long_brazo</th>\n      <th>ancho_espalda</th>\n      <th>diam_craneo</th>\n      <th>long_rod_tob</th>\n    </tr>\n  </thead>\n  <tbody>\n    <tr>\n      <th>0</th>\n      <td>0</td>\n      <td>159</td>\n      <td>49</td>\n      <td>36.0</td>\n      <td>68.0</td>\n      <td>42.0</td>\n      <td>57.0</td>\n      <td>40.0</td>\n    </tr>\n    <tr>\n      <th>1</th>\n      <td>1</td>\n      <td>164</td>\n      <td>62</td>\n      <td>39.0</td>\n      <td>73.0</td>\n      <td>44.0</td>\n      <td>55.0</td>\n      <td>44.0</td>\n    </tr>\n    <tr>\n      <th>2</th>\n      <td>0</td>\n      <td>172</td>\n      <td>65</td>\n      <td>38.0</td>\n      <td>75.0</td>\n      <td>48.0</td>\n      <td>58.0</td>\n      <td>44.0</td>\n    </tr>\n    <tr>\n      <th>3</th>\n      <td>0</td>\n      <td>167</td>\n      <td>52</td>\n      <td>37.0</td>\n      <td>73.0</td>\n      <td>41.5</td>\n      <td>58.0</td>\n      <td>44.0</td>\n    </tr>\n    <tr>\n      <th>4</th>\n      <td>0</td>\n      <td>164</td>\n      <td>51</td>\n      <td>36.0</td>\n      <td>71.0</td>\n      <td>44.5</td>\n      <td>54.0</td>\n      <td>40.0</td>\n    </tr>\n  </tbody>\n</table>\n</div>"
     },
     "metadata": {},
     "execution_count": 14
    }
   ],
   "source": [
    "# Lectura de información\n",
    "datos = pd.read_csv('datos.txt')\n",
    "datos.head()"
   ]
  },
  {
   "cell_type": "code",
   "execution_count": 18,
   "metadata": {},
   "outputs": [],
   "source": [
    "# Se crea las variables de entrenamiento\n",
    "x_test = datos.drop('genero', axis=1)\n",
    "y_test = datos.genero"
   ]
  },
  {
   "cell_type": "code",
   "execution_count": 34,
   "metadata": {},
   "outputs": [
    {
     "output_type": "execute_result",
     "data": {
      "text/plain": "   k Precisión\n0  1    100.0%\n1  2     92.6%\n2  3     88.9%\n3  4     88.9%\n4  5     92.6%\n5  6     92.6%\n6  7     92.6%\n7  8     92.6%",
      "text/html": "<div>\n<style scoped>\n    .dataframe tbody tr th:only-of-type {\n        vertical-align: middle;\n    }\n\n    .dataframe tbody tr th {\n        vertical-align: top;\n    }\n\n    .dataframe thead th {\n        text-align: right;\n    }\n</style>\n<table border=\"1\" class=\"dataframe\">\n  <thead>\n    <tr style=\"text-align: right;\">\n      <th></th>\n      <th>k</th>\n      <th>Precisión</th>\n    </tr>\n  </thead>\n  <tbody>\n    <tr>\n      <th>0</th>\n      <td>1</td>\n      <td>100.0%</td>\n    </tr>\n    <tr>\n      <th>1</th>\n      <td>2</td>\n      <td>92.6%</td>\n    </tr>\n    <tr>\n      <th>2</th>\n      <td>3</td>\n      <td>88.9%</td>\n    </tr>\n    <tr>\n      <th>3</th>\n      <td>4</td>\n      <td>88.9%</td>\n    </tr>\n    <tr>\n      <th>4</th>\n      <td>5</td>\n      <td>92.6%</td>\n    </tr>\n    <tr>\n      <th>5</th>\n      <td>6</td>\n      <td>92.6%</td>\n    </tr>\n    <tr>\n      <th>6</th>\n      <td>7</td>\n      <td>92.6%</td>\n    </tr>\n    <tr>\n      <th>7</th>\n      <td>8</td>\n      <td>92.6%</td>\n    </tr>\n  </tbody>\n</table>\n</div>"
     },
     "metadata": {},
     "execution_count": 34
    }
   ],
   "source": [
    "# Se evalua el conjunto de entrenamiento con diferentes k\n",
    "ks = [1, 2, 3, 4, 5, 6, 7, 8]\n",
    "precisiones = []\n",
    "for k in ks:\n",
    "    knn = KNeighborsClassifier(k)\n",
    "    knn.fit(x_test, y_test)\n",
    "    precisiones.append(knn.score(x_test, y_test))\n",
    "indMax = precisiones.index(max(precisiones))\n",
    "precisiones = ['{0:.1%}'.format(prec) for prec in precisiones]\n",
    "tablaEvaluacion = pd.DataFrame({\"k\":ks,\"Precisión\":precisiones})\n",
    "tablaEvaluacion"
   ]
  },
  {
   "cell_type": "code",
   "execution_count": 40,
   "metadata": {},
   "outputs": [
    {
     "output_type": "stream",
     "name": "stdout",
     "text": "El k con mayor precisión sobre el conjunto de entrenamiento es k=1 con precisión del 100.0%\n"
    }
   ],
   "source": [
    "print('El k con mayor precisión sobre el conjunto de entrenamiento es k={:d} con precisión del {:s}'\n",
    "    .format(tablaEvaluacion['k'].values[indMax], tablaEvaluacion['Precisión'].values[indMax]))"
   ]
  },
  {
   "cell_type": "markdown",
   "metadata": {},
   "source": [
    "### Arbol de decisión"
   ]
  }
 ],
 "metadata": {
  "language_info": {
   "codemirror_mode": {
    "name": "ipython",
    "version": 3
   },
   "file_extension": ".py",
   "mimetype": "text/x-python",
   "name": "python",
   "nbconvert_exporter": "python",
   "pygments_lexer": "ipython3",
   "version": "3.7.6-final"
  },
  "orig_nbformat": 2,
  "kernelspec": {
   "name": "python3",
   "display_name": "Python 3"
  }
 },
 "nbformat": 4,
 "nbformat_minor": 2
}