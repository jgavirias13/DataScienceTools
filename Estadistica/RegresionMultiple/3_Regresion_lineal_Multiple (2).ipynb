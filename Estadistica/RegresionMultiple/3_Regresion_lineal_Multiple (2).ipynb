{
 "cells": [
  {
   "cell_type": "markdown",
   "metadata": {
    "collapsed": false
   },
   "source": [
    "# Regresión lineal múltiple"
   ]
  },
  {
   "cell_type": "markdown",
   "metadata": {
    "collapsed": false
   },
   "source": [
    "Un modelo estadístico lineal que relaciona una respuesta aleatoria $Y$ con un conjunto de medidas independientes $x_1, x_2,\\dots, x_n$ se expresa de la forma"
   ]
  },
  {
   "cell_type": "markdown",
   "metadata": {
    "collapsed": false
   },
   "source": [
    "$$\n",
    "Y = \\beta_0 + \\beta_1 x_1 + \\beta_2 x_2 + \\dots + \\beta_n x_n + \\epsilon\n",
    "$$"
   ]
  },
  {
   "cell_type": "markdown",
   "metadata": {
    "collapsed": false
   },
   "source": [
    "donde $\\beta_0, \\beta_1, \\dots \\beta_n$ son parámetros desconocidos, $\\epsilon$ es una variable aleatoria y las variables $x_1, x_2, \\dots, x_n$ toman valores conocidos. "
   ]
  },
  {
   "cell_type": "markdown",
   "metadata": {
    "collapsed": false
   },
   "source": [
    "Se supone que $E[ \\epsilon ]=0$ y $V[ \\epsilon ] = \\sigma^2$. Por tanto:"
   ]
  },
  {
   "cell_type": "markdown",
   "metadata": {
    "collapsed": false
   },
   "source": [
    "$$\n",
    "E [Y] = \\beta_0 + \\beta_1 x_1 + \\beta_2 x_2 + \\dots + \\beta_n x_n\n",
    "$$"
   ]
  },
  {
   "cell_type": "markdown",
   "metadata": {
    "collapsed": false
   },
   "source": [
    "Para ajustar el modelo se deben estimar los parámetros."
   ]
  },
  {
   "cell_type": "markdown",
   "metadata": {
    "collapsed": false
   },
   "source": [
    "= = = = = = = = = = = = = = = = = = = = = = = = = = = = = = =           CÓMO ?            = = = = = = = = = = = = = = = = = = = = = = = = = = = = = = ="
   ]
  },
  {
   "cell_type": "markdown",
   "metadata": {
    "collapsed": false
   },
   "source": [
    "#### Método de Mínimos Cuadrados"
   ]
  },
  {
   "cell_type": "markdown",
   "metadata": {
    "collapsed": false
   },
   "source": [
    "###### Caso Simple"
   ]
  },
  {
   "cell_type": "markdown",
   "metadata": {
    "collapsed": false
   },
   "source": [
    "$$\n",
    "E [Y] = \\beta_0 + \\beta_1 x_1 \n",
    "$$"
   ]
  },
  {
   "cell_type": "markdown",
   "metadata": {
    "collapsed": false
   },
   "source": [
    "Si $\\hat{\\beta_0}$ y $\\hat{\\beta_1}$ son los estimadores de los parámetros $\\beta_0$ y $\\beta_1$ entonces  "
   ]
  },
  {
   "cell_type": "markdown",
   "metadata": {
    "collapsed": false
   },
   "source": [
    "$$\n",
    "\\hat{Y} = \\hat{\\beta_0} + \\hat{\\beta_0} x \n",
    "$$"
   ]
  },
  {
   "cell_type": "markdown",
   "metadata": {
    "collapsed": false
   },
   "source": [
    "es un estimador de $E[Y]$."
   ]
  },
  {
   "cell_type": "markdown",
   "metadata": {
    "collapsed": false
   },
   "source": [
    "#### Suma de cuadrados del error - SSE"
   ]
  },
  {
   "cell_type": "markdown",
   "metadata": {
    "collapsed": false
   },
   "source": [
    "$$\n",
    "\\mbox{SSE} = \\sum_{i=1}^{n} (y_i - \\hat{y}_i)^2 = \\sum_{i=1}^{n} [y_i - (\\hat{\\beta}_0 + \\hat{\\beta}_1 x_i)]^2 \n",
    "$$"
   ]
  },
  {
   "cell_type": "markdown",
   "metadata": {
    "collapsed": false
   },
   "source": [
    "#### Ecuaciones de mínimos cuadrados SSE"
   ]
  },
  {
   "cell_type": "markdown",
   "metadata": {
    "collapsed": false
   },
   "source": [
    "$$\n",
    "\\frac{\\partial \\; \\mbox{SSE}}{\\partial \\hat{\\beta_0}} = 0 \\;\\;\\;\\; \\mbox{y} \\;\\;\\;\\; \\frac{\\partial \\; \\mbox{SSE}}{\\partial \\hat{\\beta_1}} = 0\n",
    "$$"
   ]
  },
  {
   "cell_type": "markdown",
   "metadata": {
    "collapsed": false
   },
   "source": [
    "#### Estimadores de mínimos cuadrados caso SIMPLE"
   ]
  },
  {
   "cell_type": "markdown",
   "metadata": {
    "collapsed": false
   },
   "source": [
    "$$\n",
    "\\hat{\\beta_1} = \\frac{S_{xy}}{S_{xx}}\n",
    "$$"
   ]
  },
  {
   "cell_type": "markdown",
   "metadata": {
    "collapsed": false
   },
   "source": [
    "$$\n",
    "\\hat{\\beta_0} = \\bar{y} - \\hat{\\beta_1} \\bar{x}\n",
    "$$"
   ]
  },
  {
   "cell_type": "markdown",
   "metadata": {
    "collapsed": false
   },
   "source": [
    "donde "
   ]
  },
  {
   "cell_type": "markdown",
   "metadata": {
    "collapsed": false
   },
   "source": [
    "$$\n",
    "S_{xy} = \\sum_{i=1}^n (x_i - \\bar{x})\\;(y_i - \\bar{y}) \\;\\;\\;\\; \\mbox{y} \\;\\;\\;\\; S_{xx} = \\sum_{i=1}^n (x_i - \\bar{x})^2\n",
    "$$"
   ]
  },
  {
   "cell_type": "markdown",
   "metadata": {
    "collapsed": false
   },
   "source": [
    "# Quis"
   ]
  },
  {
   "cell_type": "markdown",
   "metadata": {
    "collapsed": false
   },
   "source": [
    "###### 1."
   ]
  },
  {
   "cell_type": "markdown",
   "metadata": {
    "collapsed": false
   },
   "source": [
    "Use el método de mínimos cuadrados para ajustar una recta a los $n=5$ puntos de datos dados en la tabla (los datos están disponibles en dataframe o en array):"
   ]
  },
  {
   "cell_type": "code",
   "execution_count": 3,
   "metadata": {
    "collapsed": false
   },
   "outputs": [
   ],
   "source": [
    "import pandas as pd"
   ]
  },
  {
   "cell_type": "code",
   "execution_count": 12,
   "metadata": {
    "collapsed": false
   },
   "outputs": [
    {
     "data": {
      "text/plain": [
       "{'col1': [-2, -1, 0, 1, 2], 'col2': [0, 0, 1, 1, 3]}"
      ]
     },
     "execution_count": 12,
     "metadata": {
     },
     "output_type": "execute_result"
    }
   ],
   "source": [
    "d = {'col1': [-2, -1, 0, 1, 2], \n",
    "     'col2': [ 0,  0, 1, 1, 3]\n",
    "    }"
   ]
  },
  {
   "cell_type": "code",
   "execution_count": 14,
   "metadata": {
    "collapsed": false
   },
   "outputs": [
   ],
   "source": [
    "df = pd.DataFrame(data=d)\n",
    "df"
   ]
  },
  {
   "cell_type": "code",
   "execution_count": 15,
   "metadata": {
    "collapsed": false
   },
   "outputs": [
   ],
   "source": [
    "dd = np.array([[-2,0],\n",
    "              [-1, 0],\n",
    "              [ 0, 1],\n",
    "              [ 1, 1],\n",
    "              [ 2, 3]]\n",
    "             )\n",
    "dd"
   ]
  },
  {
   "cell_type": "markdown",
   "metadata": {
    "collapsed": false
   },
   "source": [
    "###### 2."
   ]
  },
  {
   "cell_type": "markdown",
   "metadata": {
    "collapsed": false
   },
   "source": [
    "Los datos de la muestra presentan suficiente evidencia para indicar que la pendiente\n",
    "difiere de 0? Pruebe usando $\\alpha = 0.05$ y establezca los límites para el nivel de significancia\n",
    "alcanzado."
   ]
  },
  {
   "cell_type": "code",
   "execution_count": 0,
   "metadata": {
    "collapsed": false
   },
   "outputs": [
   ],
   "source": [
   ]
  },
  {
   "cell_type": "markdown",
   "metadata": {
    "collapsed": false
   },
   "source": [
    "# Extensión a más dimensiones"
   ]
  },
  {
   "cell_type": "markdown",
   "metadata": {
    "collapsed": false
   },
   "source": [
    "Paquete principal de python para este módulo: \"statsmodels\"\n",
    "\n",
    "\"statsmodels\" usa internamente otro paquete llamado \" patsy \" "
   ]
  },
  {
   "cell_type": "markdown",
   "metadata": {
    "collapsed": false
   },
   "source": [
    "https://patsy.readthedocs.io/en/latest/"
   ]
  },
  {
   "cell_type": "code",
   "execution_count": 3,
   "metadata": {
    "collapsed": false
   },
   "outputs": [
   ],
   "source": [
    "import statsmodels.api as sm\n",
    "import statsmodels.formula.api as smf\n",
    "import statsmodels.graphics.api as smg"
   ]
  },
  {
   "cell_type": "code",
   "execution_count": 17,
   "metadata": {
    "collapsed": false
   },
   "outputs": [
   ],
   "source": [
    "import patsy"
   ]
  },
  {
   "cell_type": "code",
   "execution_count": 2,
   "metadata": {
    "collapsed": false
   },
   "outputs": [
   ],
   "source": [
    "import matplotlib.pyplot as plt\n",
    "import numpy as np\n",
    "import pandas as pd"
   ]
  },
  {
   "cell_type": "code",
   "execution_count": 4,
   "metadata": {
    "collapsed": false
   },
   "outputs": [
   ],
   "source": [
    "from scipy import stats"
   ]
  },
  {
   "cell_type": "markdown",
   "metadata": {
    "collapsed": false
   },
   "source": [
    "#### Situación problema"
   ]
  },
  {
   "cell_type": "markdown",
   "metadata": {
    "collapsed": false
   },
   "source": [
    "Se tienen los siguientes datos observados de la variable respuesta y = [1, 2, 3, 4, 5]"
   ]
  },
  {
   "cell_type": "markdown",
   "metadata": {
    "collapsed": false
   },
   "source": [
    "con dos variables independientes con los siguientes valores $x_1$ = [6, 7, 8, 9, 10] y $x_2$ = [11, 12, 13, 14, 15],"
   ]
  },
  {
   "cell_type": "markdown",
   "metadata": {
    "collapsed": false
   },
   "source": [
    "Se desea ajustar el siguiente modelo:"
   ]
  },
  {
   "cell_type": "markdown",
   "metadata": {
    "collapsed": false
   },
   "source": [
    "$$\n",
    "Y = \\beta_0 + \\beta_1 X_1 + \\beta_2 X_2 + \\beta_3 X_1 X_2\n",
    "$$"
   ]
  },
  {
   "cell_type": "markdown",
   "metadata": {
    "collapsed": false
   },
   "source": [
    "Entonces la matriz de diseño para el lado derecho de la ecuación es $X = [{\\bf{1}} , X_1, X_2, X_1 X_2]$"
   ]
  },
  {
   "cell_type": "markdown",
   "metadata": {
    "collapsed": false
   },
   "source": [
    "Construcción de la matriz de diseño:"
   ]
  },
  {
   "cell_type": "code",
   "execution_count": 10,
   "metadata": {
    "collapsed": false
   },
   "outputs": [
    {
     "data": {
      "text/plain": [
       "array([[  1.,   6.,  11.,  66.],\n",
       "       [  1.,   7.,  12.,  84.],\n",
       "       [  1.,   8.,  13., 104.],\n",
       "       [  1.,   9.,  14., 126.],\n",
       "       [  1.,  10.,  15., 150.]])"
      ]
     },
     "execution_count": 10,
     "metadata": {
     },
     "output_type": "execute_result"
    }
   ],
   "source": [
    "y = np.array([1, 2, 3, 4, 5])\n",
    "x1 = np.array([6, 7, 8, 9, 10])\n",
    "x2 = np.array([11, 12, 13, 14, 15])\n",
    "X  = np.vstack((np.ones(5), x1, x2, x1*x2)).T\n",
    "X"
   ]
  },
  {
   "cell_type": "code",
   "execution_count": 12,
   "metadata": {
    "collapsed": false
   },
   "outputs": [
    {
     "name": "stderr",
     "output_type": "stream",
     "text": [
      "/ext/anaconda-2019.03/lib/python3.7/site-packages/ipykernel/__main__.py:2: FutureWarning: `rcond` parameter will change to the default of machine precision times ``max(M, N)`` where M and N are the input matrix dimensions.\n",
      "To use the future default and silence this warning we advise to pass `rcond=None`, to keep using the old, explicitly pass `rcond=-1`.\n",
      "  from ipykernel import kernelapp as app\n"
     ]
    }
   ],
   "source": [
    "#solucion usando solamente numpy https://numpy.org/doc/stable/reference/generated/numpy.linalg.lstsq.html\n",
    "beta, res, rank, sval = np.linalg.lstsq(X,y)"
   ]
  },
  {
   "cell_type": "code",
   "execution_count": 13,
   "metadata": {
    "collapsed": false
   },
   "outputs": [
    {
     "data": {
      "text/plain": [
       "array([-5.55555556e-01,  1.88888889e+00, -8.88888889e-01, -1.11022302e-15])"
      ]
     },
     "execution_count": 13,
     "metadata": {
     },
     "output_type": "execute_result"
    }
   ],
   "source": [
    "beta"
   ]
  },
  {
   "cell_type": "code",
   "execution_count": 0,
   "metadata": {
    "collapsed": false
   },
   "outputs": [
   ],
   "source": [
   ]
  },
  {
   "cell_type": "code",
   "execution_count": 17,
   "metadata": {
    "collapsed": false
   },
   "outputs": [
    {
     "data": {
      "text/plain": [
       "array([[ 1., -2.],\n",
       "       [ 1., -1.],\n",
       "       [ 1.,  0.],\n",
       "       [ 1.,  1.],\n",
       "       [ 1.,  2.]])"
      ]
     },
     "execution_count": 17,
     "metadata": {
     },
     "output_type": "execute_result"
    }
   ],
   "source": [
    "y = np.array([0, 0, 1, 1, 3])\n",
    "x1 = np.array([-2, -1, 0, 1, 2])\n",
    "X  = np.vstack((np.ones(5), x1)).T\n",
    "X"
   ]
  },
  {
   "cell_type": "code",
   "execution_count": 18,
   "metadata": {
    "collapsed": false
   },
   "outputs": [
    {
     "name": "stderr",
     "output_type": "stream",
     "text": [
      "/ext/anaconda-2019.03/lib/python3.7/site-packages/ipykernel/__main__.py:1: FutureWarning: `rcond` parameter will change to the default of machine precision times ``max(M, N)`` where M and N are the input matrix dimensions.\n",
      "To use the future default and silence this warning we advise to pass `rcond=None`, to keep using the old, explicitly pass `rcond=-1`.\n",
      "  if __name__ == '__main__':\n"
     ]
    },
    {
     "data": {
      "text/plain": [
       "array([1. , 0.7])"
      ]
     },
     "execution_count": 18,
     "metadata": {
     },
     "output_type": "execute_result"
    }
   ],
   "source": [
    "beta, res, rank, sval = np.linalg.lstsq(X,y)\n",
    "beta"
   ]
  },
  {
   "cell_type": "code",
   "execution_count": 19,
   "metadata": {
    "collapsed": false
   },
   "outputs": [
    {
     "data": {
      "text/plain": [
       "array([1.1])"
      ]
     },
     "execution_count": 19,
     "metadata": {
     },
     "output_type": "execute_result"
    }
   ],
   "source": [
    "res"
   ]
  },
  {
   "cell_type": "code",
   "execution_count": 24,
   "metadata": {
    "collapsed": false
   },
   "outputs": [
    {
     "data": {
      "text/plain": [
       "1.1000000000000003"
      ]
     },
     "execution_count": 24,
     "metadata": {
     },
     "output_type": "execute_result"
    }
   ],
   "source": [
    "((y - X.dot(beta))**2).sum()"
   ]
  },
  {
   "cell_type": "code",
   "execution_count": 27,
   "metadata": {
    "collapsed": false
   },
   "outputs": [
   ],
   "source": [
    "dat = pd.DataFrame({\"x1\":x1 , \"y\":y})"
   ]
  },
  {
   "cell_type": "markdown",
   "metadata": {
    "collapsed": false
   },
   "source": [
    "#### Pasos para el uso de patsy"
   ]
  },
  {
   "cell_type": "markdown",
   "metadata": {
    "collapsed": false
   },
   "source": [
    "1. crear un instacia del modelo\n",
    "\n",
    "2. ajustar el modelo a los datos\n",
    "\n",
    "3. presentar los resultados\n",
    "\n",
    "4. analizar los parámetros y los residuos\n",
    "\n",
    "5. visualizar los resultados del ajuste (en caso que sea posible)"
   ]
  },
  {
   "cell_type": "code",
   "execution_count": 31,
   "metadata": {
    "collapsed": false
   },
   "outputs": [
   ],
   "source": [
    "# No hay que ingresarle el vector de 1\n",
    "model = smf.ols(\"y ~ x1\", dat)"
   ]
  },
  {
   "cell_type": "code",
   "execution_count": 29,
   "metadata": {
    "collapsed": false
   },
   "outputs": [
   ],
   "source": [
    "result = model.fit()"
   ]
  },
  {
   "cell_type": "code",
   "execution_count": 30,
   "metadata": {
    "collapsed": false
   },
   "outputs": [
    {
     "name": "stdout",
     "output_type": "stream",
     "text": [
      "                            OLS Regression Results                            \n",
      "==============================================================================\n",
      "Dep. Variable:                      y   R-squared:                       0.817\n",
      "Model:                            OLS   Adj. R-squared:                  0.756\n",
      "Method:                 Least Squares   F-statistic:                     13.36\n",
      "Date:                Fri, 22 May 2020   Prob (F-statistic):             0.0354\n",
      "Time:                        21:08:33   Log-Likelihood:                -3.3094\n",
      "No. Observations:                   5   AIC:                             10.62\n",
      "Df Residuals:                       3   BIC:                             9.838\n",
      "Df Model:                           1                                         \n",
      "Covariance Type:            nonrobust                                         \n",
      "==============================================================================\n",
      "                 coef    std err          t      P>|t|      [0.025      0.975]\n",
      "------------------------------------------------------------------------------\n",
      "Intercept      1.0000      0.271      3.693      0.034       0.138       1.862\n",
      "x1             0.7000      0.191      3.656      0.035       0.091       1.309\n",
      "==============================================================================\n",
      "Omnibus:                          nan   Durbin-Watson:                   2.509\n",
      "Prob(Omnibus):                    nan   Jarque-Bera (JB):                0.396\n",
      "Skew:                          -0.174   Prob(JB):                        0.821\n",
      "Kurtosis:                       1.667   Cond. No.                         1.41\n",
      "==============================================================================\n",
      "\n",
      "Warnings:\n",
      "[1] Standard Errors assume that the covariance matrix of the errors is correctly specified.\n"
     ]
    },
    {
     "name": "stderr",
     "output_type": "stream",
     "text": [
      "/ext/anaconda-2019.03/lib/python3.7/site-packages/statsmodels/stats/stattools.py:71: ValueWarning: omni_normtest is not valid with less than 8 observations; 5 samples were given.\n",
      "  \"samples were given.\" % int(n), ValueWarning)\n"
     ]
    }
   ],
   "source": [
    "print(result.summary())"
   ]
  },
  {
   "cell_type": "markdown",
   "metadata": {
    "collapsed": false
   },
   "source": [
    "El resultado producido por en la pantalla de resumen es bastante detallado, y una descripción detallada de toda la información \n",
    "proporcionada por este método se escapa de nuestro alcance. Especial atención de debe tomar en el parámtero $R^2$."
   ]
  },
  {
   "cell_type": "markdown",
   "metadata": {
    "collapsed": false
   },
   "source": [
    "El valor R cuadrado es una estadística que indica qué tan bien el modelo se ajusta a los datos. Puede tomar valores entre 0 y 1, donde una estadística R al cuadrado de 1 corresponde a un ajuste perfecto."
   ]
  },
  {
   "cell_type": "code",
   "execution_count": 32,
   "metadata": {
    "collapsed": false
   },
   "outputs": [
    {
     "data": {
      "text/plain": [
       "0.8166666666666667"
      ]
     },
     "execution_count": 32,
     "metadata": {
     },
     "output_type": "execute_result"
    }
   ],
   "source": [
    "result.rsquared"
   ]
  },
  {
   "cell_type": "code",
   "execution_count": 0,
   "metadata": {
    "collapsed": false
   },
   "outputs": [
   ],
   "source": [
    "La columna $p>|t|$ proporciona el valor $p$. "
   ]
  },
  {
   "cell_type": "code",
   "execution_count": 0,
   "metadata": {
    "collapsed": false
   },
   "outputs": [
   ],
   "source": [
   ]
  },
  {
   "cell_type": "code",
   "execution_count": 0,
   "metadata": {
    "collapsed": false
   },
   "outputs": [
   ],
   "source": [
   ]
  },
  {
   "cell_type": "code",
   "execution_count": 0,
   "metadata": {
    "collapsed": false
   },
   "outputs": [
   ],
   "source": [
   ]
  },
  {
   "cell_type": "markdown",
   "metadata": {
    "collapsed": false
   },
   "source": [
    "En la siguiente tabla tabulada la variable respuesta $Y$ es la primera columna y las otras siete variables $X_1, X_2, X_3, X_4, X_5, X_6, X_7$ son las variables independientes.\n",
    "\n",
    "\n",
    "Se requiere calcular la regresión de la variable $X_2$ con respecto a $X_3, X_4, X_5, X_6, X_7$. Y encontrar el estadístico de ajuste $R^2$. "
   ]
  },
  {
   "cell_type": "code",
   "execution_count": 4,
   "metadata": {
    "collapsed": false
   },
   "outputs": [
   ],
   "source": [
    "Data = [[0, 159, 49,   36,     68,     42,   57,   40],\n",
    "        [1, 164, 62,   39,     73,     44,   55,   44],\n",
    "        [0, 172, 65,   38,     75,     48,   58,   44],\n",
    "        [0, 167, 52,   37,     73,   41.5,   58,   44],\n",
    "        [0, 164, 51,   36,     71,   44.5,   54,   40], \n",
    "        [0, 161, 67,   38,     71,     44,   56,   42], \n",
    "        [0, 168, 48,   39,   72.5,     41,   54.5, 43], \n",
    "        [1, 181, 74,   43,     74,     50,   60,   47],\n",
    "        [1, 183, 74,   41,     79,   47.5,   59.5, 47],\n",
    "        [0, 158, 50,   36,   68.5,     44,   57,   41],\n",
    "        [0, 156, 65,   36,     68,     46,   58,   41],\n",
    "        [1, 173, 64,   40,     79,     48,   56.5, 47],\n",
    "        [0, 158, 43,   36,     68,     43,   55,   39], \n",
    "        [1, 178, 74,   42,     75,     50,   59,   45], \n",
    "        [1, 181, 76,   43,     83,     51,   57,   43], \n",
    "        [1, 182, 91,   41,     83,     53,   59,   43], \n",
    "        [1, 176, 73,   42,     78,     48,   58,   45], \n",
    "        [0, 162, 68,   39,     72,     44,   59,   42], \n",
    "        [0, 156, 52,   36,     67,     36,   56,   41], \n",
    "        [0, 152, 45,   34,     66,     40,   55,   38], \n",
    "        [1, 181, 80,   43,     76,     49,   57,   46], \n",
    "        [1, 173, 69,   41,     74,     48,   56,   44], \n",
    "        [0, 155, 53,   36,     67,     43,   56,   38], \n",
    "        [1, 189, 87,   45,     82,     53,   61,   52], \n",
    "        [0, 170, 70,   38,     73,     45,   56,   43], \n",
    "        [1, 170, 67,   40,     77,   46.5,   58,   44.5],\n",
    "        [0, 168, 56, 37.5,   70.5,     48,   60,   40]\n",
    "       ]"
   ]
  },
  {
   "cell_type": "markdown",
   "metadata": {
    "collapsed": false
   },
   "source": [
    "# SOLUCION : "
   ]
  },
  {
   "cell_type": "markdown",
   "metadata": {
    "collapsed": false
   },
   "source": [
    "#### Con matriz de diseño"
   ]
  },
  {
   "cell_type": "code",
   "execution_count": 3,
   "metadata": {
    "collapsed": false
   },
   "outputs": [
   ],
   "source": [
    "import statsmodels.api as sm\n",
    "import statsmodels.formula.api as smf\n",
    "import statsmodels.graphics.api as smg\n",
    "\n",
    "import numpy as np\n",
    "\n",
    "import patsy"
   ]
  },
  {
   "cell_type": "code",
   "execution_count": 5,
   "metadata": {
    "collapsed": false
   },
   "outputs": [
   ],
   "source": [
    "data = np.array(Data)\n",
    "data_x = data[ :, 1:len(data)]"
   ]
  },
  {
   "cell_type": "code",
   "execution_count": 6,
   "metadata": {
    "collapsed": false
   },
   "outputs": [
   ],
   "source": [
    "y  = data[:,0]\n",
    "x1 = data_x[:,0]\n",
    "x2 = data_x[:,1]\n",
    "x3 = data_x[:,2]\n",
    "x4 = data_x[:,3]\n",
    "x5 = data_x[:,4]\n",
    "x6 = data_x[:,5]\n",
    "x7 = data_x[:,6]"
   ]
  },
  {
   "cell_type": "code",
   "execution_count": 20,
   "metadata": {
    "collapsed": false
   },
   "outputs": [
   ],
   "source": [
    "#model = smf.ols(\"x1 ~ x2 + x3 + x4 + x5 + x6 + x7\", data_x)"
   ]
  },
  {
   "cell_type": "code",
   "execution_count": 7,
   "metadata": {
    "collapsed": false
   },
   "outputs": [
   ],
   "source": [
    "# para trabajar con patsy toca definir un diccionario\n",
    "dataa = {\"x1\": x1, \"x2\": x2, \"x3\": x3,\"x4\": x4,\"x5\": x5,\"x6\": x6,\"x7\": x7}"
   ]
  },
  {
   "cell_type": "code",
   "execution_count": 8,
   "metadata": {
    "collapsed": false
   },
   "outputs": [
   ],
   "source": [
    "y, X = patsy.dmatrices(\"x1 ~   x2 + x3 + x4 + x5 + x6 + x7\", dataa)"
   ]
  },
  {
   "cell_type": "code",
   "execution_count": 9,
   "metadata": {
    "collapsed": false
   },
   "outputs": [
   ],
   "source": [
    "#type(X) observe OLS en mayuscula sm.OLS(y,X)\n",
    "model = sm.OLS(y,X)\n",
    "result = model.fit()"
   ]
  },
  {
   "cell_type": "code",
   "execution_count": 10,
   "metadata": {
    "collapsed": false
   },
   "outputs": [
    {
     "data": {
      "text/plain": [
       "array([ 0.92, -0.09,  1.43,  0.73,  0.49,  0.35,  0.51])"
      ]
     },
     "execution_count": 10,
     "metadata": {
     },
     "output_type": "execute_result"
    }
   ],
   "source": [
    "result.params.round(2) #prueba unitaria"
   ]
  },
  {
   "cell_type": "code",
   "execution_count": 11,
   "metadata": {
    "collapsed": false
   },
   "outputs": [
    {
     "name": "stdout",
     "output_type": "stream",
     "text": [
      "                            OLS Regression Results                            \n",
      "==============================================================================\n",
      "Dep. Variable:                     x1   R-squared:                       0.930\n",
      "Model:                            OLS   Adj. R-squared:                  0.910\n",
      "Method:                 Least Squares   F-statistic:                     44.56\n",
      "Date:                Sat, 23 May 2020   Prob (F-statistic):           1.55e-10\n",
      "Time:                        12:37:28   Log-Likelihood:                -64.518\n",
      "No. Observations:                  27   AIC:                             143.0\n",
      "Df Residuals:                      20   BIC:                             152.1\n",
      "Df Model:                           6                                         \n",
      "Covariance Type:            nonrobust                                         \n",
      "==============================================================================\n",
      "                 coef    std err          t      P>|t|      [0.025      0.975]\n",
      "------------------------------------------------------------------------------\n",
      "Intercept      0.9164     26.215      0.035      0.972     -53.768      55.600\n",
      "x2            -0.0942      0.109     -0.868      0.396      -0.321       0.132\n",
      "x3             1.4298      0.582      2.458      0.023       0.216       2.643\n",
      "x4             0.7327      0.272      2.693      0.014       0.165       1.300\n",
      "x5             0.4945      0.328      1.508      0.147      -0.190       1.179\n",
      "x6             0.3468      0.464      0.747      0.464      -0.622       1.315\n",
      "x7             0.5057      0.400      1.265      0.221      -0.328       1.340\n",
      "==============================================================================\n",
      "Omnibus:                        3.107   Durbin-Watson:                   2.196\n",
      "Prob(Omnibus):                  0.212   Jarque-Bera (JB):                1.377\n",
      "Skew:                          -0.074   Prob(JB):                        0.502\n",
      "Kurtosis:                       1.904   Cond. No.                     6.02e+03\n",
      "==============================================================================\n",
      "\n",
      "Warnings:\n",
      "[1] Standard Errors assume that the covariance matrix of the errors is correctly specified.\n",
      "[2] The condition number is large, 6.02e+03. This might indicate that there are\n",
      "strong multicollinearity or other numerical problems.\n"
     ]
    }
   ],
   "source": [
    "print(result.summary())"
   ]
  },
  {
   "cell_type": "code",
   "execution_count": 0,
   "metadata": {
    "collapsed": false
   },
   "outputs": [
   ],
   "source": [
   ]
  },
  {
   "cell_type": "markdown",
   "metadata": {
    "collapsed": false
   },
   "source": [
    "# segunda solución"
   ]
  },
  {
   "cell_type": "markdown",
   "metadata": {
    "collapsed": false
   },
   "source": [
    "#### con DataFrame"
   ]
  },
  {
   "cell_type": "markdown",
   "metadata": {
    "collapsed": false
   },
   "source": [
    "Usando la fórmula API de statsmodels (la que se importa como smf), se puede pasar directamente la fórmula de Patsy al modelo cuando se\n",
    "crea la instancia del modelo, y en este caso no hay necesidad de crear primero la matriz de diseño\n",
    "Pero al contrario de pasar X y como argumentos se le pasa la formula de patsy y elobjeto dsi toca "
   ]
  },
  {
   "cell_type": "code",
   "execution_count": 12,
   "metadata": {
    "collapsed": false
   },
   "outputs": [
   ],
   "source": [
    "import statsmodels.api as sm\n",
    "import statsmodels.formula.api as smf\n",
    "import statsmodels.graphics.api as smg\n",
    "\n",
    "import numpy as np\n",
    "\n",
    "import patsy"
   ]
  },
  {
   "cell_type": "code",
   "execution_count": 13,
   "metadata": {
    "collapsed": false
   },
   "outputs": [
   ],
   "source": [
    "# se crea el diccionario\n",
    "data = np.array(Data)\n",
    "data_x = data[ :, 1:len(data)]\n",
    "y  = data[:,0]\n",
    "x1 = data_x[:,0]\n",
    "x2 = data_x[:,1]\n",
    "x3 = data_x[:,2]\n",
    "x4 = data_x[:,3]\n",
    "x5 = data_x[:,4]\n",
    "x6 = data_x[:,5]\n",
    "x7 = data_x[:,6]\n",
    "dataa = {\"x1\": x1, \"x2\": x2, \"x3\": x3,\"x4\": x4,\"x5\": x5,\"x6\": x6,\"x7\": x7}"
   ]
  },
  {
   "cell_type": "code",
   "execution_count": 14,
   "metadata": {
    "collapsed": false
   },
   "outputs": [
   ],
   "source": [
    "# se crea el datframe\n",
    "import pandas as pd\n",
    "df_data = pd.DataFrame(dataa)"
   ]
  },
  {
   "cell_type": "code",
   "execution_count": 23,
   "metadata": {
    "collapsed": false
   },
   "outputs": [
   ],
   "source": [
    "y, X = patsy.dmatrices(\"x1 ~   x2 + x2 + x3 + x4 + x5 + x6 + x7\", df_data, return_type=\"dataframe\")"
   ]
  },
  {
   "cell_type": "code",
   "execution_count": 15,
   "metadata": {
    "collapsed": false
   },
   "outputs": [
   ],
   "source": [
    "#type(X) observe ols en minuscula  sm.ols(y,X)\n",
    "model = smf.ols(\"x1 ~ x2 + x2 + x3 + x4 + x5 + x6 + x7\" , df_data)\n",
    "result = model.fit()"
   ]
  },
  {
   "cell_type": "code",
   "execution_count": 16,
   "metadata": {
    "collapsed": false
   },
   "outputs": [
    {
     "name": "stdout",
     "output_type": "stream",
     "text": [
      "                            OLS Regression Results                            \n",
      "==============================================================================\n",
      "Dep. Variable:                     x1   R-squared:                       0.930\n",
      "Model:                            OLS   Adj. R-squared:                  0.910\n",
      "Method:                 Least Squares   F-statistic:                     44.56\n",
      "Date:                Sat, 23 May 2020   Prob (F-statistic):           1.55e-10\n",
      "Time:                        12:41:59   Log-Likelihood:                -64.518\n",
      "No. Observations:                  27   AIC:                             143.0\n",
      "Df Residuals:                      20   BIC:                             152.1\n",
      "Df Model:                           6                                         \n",
      "Covariance Type:            nonrobust                                         \n",
      "==============================================================================\n",
      "                 coef    std err          t      P>|t|      [0.025      0.975]\n",
      "------------------------------------------------------------------------------\n",
      "Intercept      0.9164     26.215      0.035      0.972     -53.768      55.600\n",
      "x2            -0.0942      0.109     -0.868      0.396      -0.321       0.132\n",
      "x3             1.4298      0.582      2.458      0.023       0.216       2.643\n",
      "x4             0.7327      0.272      2.693      0.014       0.165       1.300\n",
      "x5             0.4945      0.328      1.508      0.147      -0.190       1.179\n",
      "x6             0.3468      0.464      0.747      0.464      -0.622       1.315\n",
      "x7             0.5057      0.400      1.265      0.221      -0.328       1.340\n",
      "==============================================================================\n",
      "Omnibus:                        3.107   Durbin-Watson:                   2.196\n",
      "Prob(Omnibus):                  0.212   Jarque-Bera (JB):                1.377\n",
      "Skew:                          -0.074   Prob(JB):                        0.502\n",
      "Kurtosis:                       1.904   Cond. No.                     6.02e+03\n",
      "==============================================================================\n",
      "\n",
      "Warnings:\n",
      "[1] Standard Errors assume that the covariance matrix of the errors is correctly specified.\n",
      "[2] The condition number is large, 6.02e+03. This might indicate that there are\n",
      "strong multicollinearity or other numerical problems.\n"
     ]
    }
   ],
   "source": [
    "print(result.summary())"
   ]
  },
  {
   "cell_type": "code",
   "execution_count": 0,
   "metadata": {
    "collapsed": false
   },
   "outputs": [
   ],
   "source": [
   ]
  }
 ],
 "metadata": {
  "kernelspec": {
   "display_name": "Python 3 (Anaconda 2019)",
   "env": {
    "AR": "/ext/anaconda-2019.03/bin/x86_64-conda_cos6-linux-gnu-ar",
    "AS": "/ext/anaconda-2019.03/bin/x86_64-conda_cos6-linux-gnu-as",
    "CC": "/ext/anaconda-2019.03/bin/x86_64-conda_cos6-linux-gnu-cc",
    "CONDA_EXE": "/ext/anaconda-2019.03/bin/conda",
    "CONDA_PREFIX": "/ext/anaconda-2019.03",
    "CONDA_PYTHON_EXE": "/ext/anaconda-2019.03/bin/python",
    "CPP": "/ext/anaconda-2019.03/bin/x86_64-conda_cos6-linux-gnu-cpp",
    "CXX": "/ext/anaconda-2019.03/bin/x86_64-conda_cos6-linux-gnu-c++",
    "CXXFILT": "/ext/anaconda-2019.03/bin/x86_64-conda_cos6-linux-gnu-c++filt",
    "ELFEDIT": "/ext/anaconda-2019.03/bin/x86_64-conda_cos6-linux-gnu-elfedit",
    "F77": "/ext/anaconda-2019.03/bin/x86_64-conda_cos6-linux-gnu-gfortran",
    "F90": "/ext/anaconda-2019.03/bin/x86_64-conda_cos6-linux-gnu-gfortran",
    "F95": "/ext/anaconda-2019.03/bin/x86_64-conda_cos6-linux-gnu-f95",
    "FC": "/ext/anaconda-2019.03/bin/x86_64-conda_cos6-linux-gnu-gfortran",
    "GCC": "/ext/anaconda-2019.03/bin/x86_64-conda_cos6-linux-gnu-gcc",
    "GCC_AR": "/ext/anaconda-2019.03/bin/x86_64-conda_cos6-linux-gnu-gcc-ar",
    "GCC_NM": "/ext/anaconda-2019.03/bin/x86_64-conda_cos6-linux-gnu-gcc-nm",
    "GCC_RANLIB": "/ext/anaconda-2019.03/bin/x86_64-conda_cos6-linux-gnu-gcc-ranlib",
    "GDAL_DATA": "/ext/anaconda-2019.03/share/gdal",
    "GFORTRAN": "/ext/anaconda-2019.03/bin/x86_64-conda_cos6-linux-gnu-gfortran",
    "GPROF": "/ext/anaconda-2019.03/bin/x86_64-conda_cos6-linux-gnu-gprof",
    "GXX": "/ext/anaconda-2019.03/bin/x86_64-conda_cos6-linux-gnu-g++",
    "JAVA_HOME": "/ext/anaconda-2019.03",
    "JAVA_LD_LIBRARY_PATH": "/ext/anaconda-2019.03/lib/server",
    "LD": "/ext/anaconda-2019.03/bin/x86_64-conda_cos6-linux-gnu-ld",
    "LD_GOLD": "/ext/anaconda-2019.03/bin/x86_64-conda_cos6-linux-gnu-ld.gold",
    "LD_LIBRARY_PATH": "/ext/anaconda-2019.03/lib",
    "NM": "/ext/anaconda-2019.03/bin/x86_64-conda_cos6-linux-gnu-nm",
    "OBJCOPY": "/ext/anaconda-2019.03/bin/x86_64-conda_cos6-linux-gnu-objcopy",
    "OBJDUMP": "/ext/anaconda-2019.03/bin/x86_64-conda_cos6-linux-gnu-objdump",
    "OCAMLFIND_CONF": "/ext/anaconda-2019.03/etc/findlib.conf",
    "OCAMLLIB": "/ext/anaconda-2019.03/lib/ocaml",
    "OCAML_PREFIX": "/ext/anaconda-2019.03",
    "PATH": "/ext/anaconda-2019.03/bin:/ext/anaconda-2019.03/condabin:/cocalc/bin:/cocalc/src/smc-project/bin:/home/user/bin:/home/user/.local/bin:/ext/bin:/usr/lib/xpra:/opt/ghc/bin:/usr/local/bin:/usr/bin:/bin:/ext/data/homer/bin:/ext/data/weblogo:/ext/intellij/idea/bin:/ext/pycharm/pycharm/bin:/usr/lib/postgresql/10/bin",
    "PROJ_LIB": "/ext/anaconda-2019.03/share/proj",
    "PYTHONHOME": "/ext/anaconda-2019.03/lib/python3.7",
    "PYTHONPATH": "/ext/anaconda-2019.03/lib/python3.7:/ext/anaconda-2019.03/lib/python3.7/site-packages",
    "RANLIB": "/ext/anaconda-2019.03/bin/x86_64-conda_cos6-linux-gnu-ranlib",
    "READELF": "/ext/anaconda-2019.03/bin/x86_64-conda_cos6-linux-gnu-readelf",
    "RSTUDIO_WHICH_R": "/ext/anaconda-2019.03/bin/R",
    "SIZE": "/ext/anaconda-2019.03/bin/x86_64-conda_cos6-linux-gnu-size",
    "STRINGS": "/ext/anaconda-2019.03/bin/x86_64-conda_cos6-linux-gnu-strings",
    "STRIP": "/ext/anaconda-2019.03/bin/x86_64-conda_cos6-linux-gnu-strip"
   },
   "language": "python",
   "metadata": {
    "cocalc": {
     "description": "Python/R distribution for data science",
     "priority": 5,
     "url": "https://www.anaconda.com/distribution/"
    }
   },
   "name": "anaconda2019"
  },
  "language_info": {
   "codemirror_mode": {
    "name": "ipython",
    "version": 3
   },
   "file_extension": ".py",
   "mimetype": "text/x-python",
   "name": "python",
   "nbconvert_exporter": "python",
   "pygments_lexer": "ipython3",
   "version": "3.7.7"
  }
 },
 "nbformat": 4,
 "nbformat_minor": 4
}