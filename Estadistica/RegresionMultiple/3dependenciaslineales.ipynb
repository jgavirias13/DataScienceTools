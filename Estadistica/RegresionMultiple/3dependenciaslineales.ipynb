{
 "cells": [
  {
   "cell_type": "markdown",
   "metadata": {
    "collapsed": false
   },
   "source": [
    "# Dependencia entre variables variables independientes"
   ]
  },
  {
   "cell_type": "code",
   "execution_count": 5,
   "metadata": {},
   "outputs": [],
   "source": [
    "import numpy as np"
   ]
  },
  {
   "cell_type": "markdown",
   "metadata": {
    "collapsed": false
   },
   "source": [
    "Cuando tenemos el sistema con la matriz de datos $X$ y el vector de etiquetas $Y$"
   ]
  },
  {
   "cell_type": "markdown",
   "metadata": {
    "collapsed": false
   },
   "source": [
    "entre las tareas previas antes de empezar a construir un algoritmo de aprendizaje para encontrar una función $h$ tal que $h(X)=y$, consiste en analizar "
   ]
  },
  {
   "cell_type": "markdown",
   "metadata": {
    "collapsed": false
   },
   "source": [
    "las relaciones que existen entre cada una de las variables que componen las columnas de la matriz $X$. "
   ]
  },
  {
   "cell_type": "markdown",
   "metadata": {
    "collapsed": false
   },
   "source": [
    "Ya que pueden existir relaciones de dependencia que pueden revelar asociaciones existentes entre las varibles medidas. Finalmente se puede usar estas relaciones\n",
    "\n",
    "para recudir el tamaño de la matriz $X$."
   ]
  },
  {
   "cell_type": "code",
   "execution_count": 6,
   "metadata": {
    "collapsed": false
   },
   "outputs": [],
   "source": [
    "Data = [[0, 159, 49,   36,     68,     42,   57,   40],\n",
    "        [1, 164, 62,   39,     73,     44,   55,   44],\n",
    "        [0, 172, 65,   38,     75,     48,   58,   44],\n",
    "        [0, 167, 52,   37,     73,   41.5,   58,   44],\n",
    "        [0, 164, 51,   36,     71,   44.5,   54,   40], \n",
    "        [0, 161, 67,   38,     71,     44,   56,   42], \n",
    "        [0, 168, 48,   39,   72.5,     41,   54.5, 43], \n",
    "        [1, 181, 74,   43,     74,     50,   60,   47],\n",
    "        [1, 183, 74,   41,     79,   47.5,   59.5, 47],\n",
    "        [0, 158, 50,   36,   68.5,     44,   57,   41],\n",
    "        [0, 156, 65,   36,     68,     46,   58,   41],\n",
    "        [1, 173, 64,   40,     79,     48,   56.5, 47],\n",
    "        [0, 158, 43,   36,     68,     43,   55,   39], \n",
    "        [1, 178, 74,   42,     75,     50,   59,   45], \n",
    "        [1, 181, 76,   43,     83,     51,   57,   43], \n",
    "        [1, 182, 91,   41,     83,     53,   59,   43], \n",
    "        [1, 176, 73,   42,     78,     48,   58,   45], \n",
    "        [0, 162, 68,   39,     72,     44,   59,   42], \n",
    "        [0, 156, 52,   36,     67,     36,   56,   41], \n",
    "        [0, 152, 45,   34,     66,     40,   55,   38], \n",
    "        [1, 181, 80,   43,     76,     49,   57,   46], \n",
    "        [1, 173, 69,   41,     74,     48,   56,   44], \n",
    "        [0, 155, 53,   36,     67,     43,   56,   38], \n",
    "        [1, 189, 87,   45,     82,     53,   61,   52], \n",
    "        [0, 170, 70,   38,     73,     45,   56,   43], \n",
    "        [1, 170, 67,   40,     77,   46.5,   58,   44.5],\n",
    "        [0, 168, 56, 37.5,   70.5,     48,   60,   40]\n",
    "       ]"
   ]
  },
  {
   "cell_type": "code",
   "execution_count": 7,
   "metadata": {
    "collapsed": false
   },
   "outputs": [],
   "source": [
    "nombres = ['género', 'estatura', 'peso', 'pie', 'brazo', 'espalda', 'craneo', 'rodi_tobi']\n",
    "\n",
    "# Y  : género (0 mujer, 1 hombre), \n",
    "# X1 : estatura (en cm), \n",
    "# X2 : peso (en Kgr), \n",
    "# X3 : longitud de pie (en cm.), \n",
    "# X4 : longitud de brazo (en cm.), \n",
    "# X5 : anchura de la espalda (en cm.), \n",
    "# X6 : diámetro del cráneo (en cm.), \n",
    "# X7 : longitud entre la rodilla y el tobillo (en cm.)"
   ]
  },
  {
   "cell_type": "markdown",
   "metadata": {
    "collapsed": false
   },
   "source": [
    "# Medidas de dependencia lineal"
   ]
  },
  {
   "cell_type": "markdown",
   "metadata": {
    "collapsed": false
   },
   "source": [
    "1. Dependencias entre pares variables. La matriz de correlación\n",
    "\n",
    "2. Entre una variable y todas las demás (coeficiente de correlación múltiple)\n",
    "\n",
    "3. Entre pares de variables pero eliminando el efecto de las demás (correlacion parcial)\n",
    "\n",
    "4. Entre el conjunto de todas las variables"
   ]
  },
  {
   "cell_type": "markdown",
   "metadata": {
    "collapsed": false
   },
   "source": [
    "#### Carga de datos "
   ]
  },
  {
   "cell_type": "code",
   "execution_count": 8,
   "metadata": {
    "collapsed": false
   },
   "outputs": [],
   "source": [
    "data = np.array(Data)\n",
    "\n",
    "data_x = data[ :, 1:len(data)]\n",
    "#data_x"
   ]
  },
  {
   "cell_type": "markdown",
   "metadata": {
    "collapsed": false
   },
   "source": [
    "# 1. Dependencia por pares"
   ]
  },
  {
   "cell_type": "markdown",
   "metadata": {
    "collapsed": false
   },
   "source": [
    "La dependencia lineal entre dos variables se estudia mediante el coeficiente de correlación\n",
    "lineal o simple. Este coeficiente para las variables $x_j, x_k$ es: "
   ]
  },
  {
   "cell_type": "code",
   "execution_count": 0,
   "metadata": {
    "collapsed": false
   },
   "outputs": [],
   "source": []
  },
  {
   "cell_type": "markdown",
   "metadata": {
    "collapsed": false
   },
   "source": [
    "$$\n",
    "r_{jk} = \\frac{S_{jk}}{S_{j}S_{k}} \\;\\;\\;\\;\\; \\mbox{donde}\\;\\;\\;\\; s_{jk} = \\frac{1}{m}\\sum_{i=1}^{m} (x_{ij}-\\bar{x_j})(x_{ik}-\\bar{x_k})\n",
    "$$"
   ]
  },
  {
   "cell_type": "markdown",
   "metadata": {
    "collapsed": false
   },
   "source": [
    "Esta información para una variable multivariante puede presentarse de forma compacta en una matriz.\n",
    "\n",
    "Se llama matriz de correlación $\\textbf{R}$\n",
    "a la matriz cuadrada y simétrica que tiene unos en la diagonal principal y fuera de ella los coeficientes de correlación lineal entre pares de variables.\n",
    "La matriz también es semidefinida positiva."
   ]
  },
  {
   "cell_type": "code",
   "execution_count": 9,
   "metadata": {
    "collapsed": false
   },
   "outputs": [
    {
     "output_type": "stream",
     "name": "stdout",
     "text": "[[1.   0.83 0.93 0.91 0.84 0.59 0.84]\n [0.83 1.   0.85 0.82 0.84 0.62 0.72]\n [0.93 0.85 1.   0.85 0.8  0.55 0.85]\n [0.91 0.82 0.85 1.   0.8  0.47 0.77]\n [0.84 0.84 0.8  0.8  1.   0.63 0.63]\n [0.59 0.62 0.55 0.47 0.63 1.   0.56]\n [0.84 0.72 0.85 0.77 0.63 0.56 1.  ]]\nla maxima correlación aparece entre la primera y la tercera variable 0.93\n"
    }
   ],
   "source": [
    "import funciones_Estadisticas\n",
    "from funciones_Estadisticas import correlaciones\n",
    "\n",
    "print(correlaciones(data_x).round(2))\n",
    "print('la maxima correlación aparece entre la primera y la tercera variable', '0.93')"
   ]
  },
  {
   "cell_type": "code",
   "execution_count": 10,
   "metadata": {
    "collapsed": false
   },
   "outputs": [
    {
     "output_type": "execute_result",
     "data": {
      "text/plain": "('estatura', 'pie')"
     },
     "metadata": {},
     "execution_count": 10
    }
   ],
   "source": [
    "nombres[1],nombres[3] "
   ]
  },
  {
   "cell_type": "code",
   "execution_count": 11,
   "metadata": {
    "collapsed": false
   },
   "outputs": [
    {
     "output_type": "stream",
     "name": "stdout",
     "text": "la mínima correlación aparece entre brazo craneo\n"
    }
   ],
   "source": [
    "print('la mínima correlación aparece entre', nombres[4],nombres[6])"
   ]
  },
  {
   "cell_type": "markdown",
   "metadata": {
    "collapsed": false
   },
   "source": [
    "# 2. Dependecia de cada variable y el resto: Regresión lineal múltiple\n"
   ]
  },
  {
   "cell_type": "markdown",
   "metadata": {
    "collapsed": false
   },
   "source": [
    "Coeficiente de determinación o coeficiente de correlación múltiple: Si una variable es combinación lineal de\n",
    "las demás, y por lo tanto puede predecirse sin error con el resto, se debe eliminar de consideración. Pero bueno, sin llegar a esta situación extrema,\n",
    "pueden haber variables que sean muy dependientes de las demás y conviene medir su grado de dependencia.\n",
    "\n",
    "Los términos diagonales de la inversa de la matriz de covarianzas son precisamente las inversas de\n",
    "las varianzas residuales de la regresión de cada variable con el resto."
   ]
  },
  {
   "cell_type": "markdown",
   "metadata": {
    "collapsed": false
   },
   "source": [
    "La siguiente expresión permite obtener inmediatamente todos los coeficientes de correlación múltiple a partir de las matrices $S$ y $S^{-1}$"
   ]
  },
  {
   "cell_type": "markdown",
   "metadata": {
    "collapsed": false
   },
   "source": [
    "$$\n",
    "R_j^2 = 1 - \\frac{1}{s^{jj}s_{jj}}\n",
    "$$"
   ]
  },
  {
   "cell_type": "markdown",
   "metadata": {
    "collapsed": false
   },
   "source": [
    "Donde $s_{jj}$ es el elemento $j$ de la diagonal de la matriz $S$ y $s^{jj}$ es el elemento $j$ de la diagonal de la matriz $S^{-1}$ "
   ]
  },
  {
   "cell_type": "markdown",
   "metadata": {
    "collapsed": false
   },
   "source": [
    "La matriz $S^{-1}$ es "
   ]
  },
  {
   "cell_type": "code",
   "execution_count": 12,
   "metadata": {
    "collapsed": false
   },
   "outputs": [
    {
     "output_type": "execute_result",
     "data": {
      "text/plain": "array([[ 0.14,  0.01, -0.21, -0.11, -0.07, -0.05, -0.07],\n       [ 0.01,  0.04, -0.08, -0.03, -0.04, -0.04, -0.  ],\n       [-0.21, -0.08,  1.26,  0.06, -0.05,  0.18, -0.29],\n       [-0.11, -0.03,  0.06,  0.29, -0.04,  0.13, -0.04],\n       [-0.07, -0.04, -0.05, -0.04,  0.34, -0.13,  0.15],\n       [-0.05, -0.04,  0.18,  0.13, -0.13,  0.64, -0.15],\n       [-0.07, -0.  , -0.29, -0.04,  0.15, -0.15,  0.5 ]])"
     },
     "metadata": {},
     "execution_count": 12
    }
   ],
   "source": [
    "from funciones_Estadisticas import Matriz_covarianzas\n",
    "s_menos_uno = np.linalg.inv(Matriz_covarianzas(data_x))\n",
    "s_menos_uno.round(2)"
   ]
  },
  {
   "cell_type": "markdown",
   "metadata": {
    "collapsed": false
   },
   "source": [
    "Como se mencionó, utilizando los elementos diagonales de esta matriz y de la matriz S se puede calcular las correlaciones múltiples al cuadrado de cada variable con el resto de la siguiente manera:"
   ]
  },
  {
   "cell_type": "markdown",
   "metadata": {
    "collapsed": false
   },
   "source": [
    "Se multiplican los elementos diagonales de las matrices $S$ y $S^{-1}$.\n",
    "\n",
    "El resultado de esta operación es:"
   ]
  },
  {
   "cell_type": "code",
   "execution_count": 13,
   "metadata": {
    "collapsed": false
   },
   "outputs": [
    {
     "output_type": "stream",
     "name": "stdout",
     "text": "[14.36721015  5.54149599  9.98983858  6.85355863  5.35489589  2.07842868\n  4.75603114]\n"
    }
   ],
   "source": [
    "DD = np.diag(s_menos_uno)*np.diag(Matriz_covarianzas(data_x))\n",
    "print(DD)"
   ]
  },
  {
   "cell_type": "markdown",
   "metadata": {
    "collapsed": false
   },
   "source": [
    "se calculan las inversas de estos elementos para obtener: "
   ]
  },
  {
   "cell_type": "code",
   "execution_count": 14,
   "metadata": {
    "collapsed": false
   },
   "outputs": [
    {
     "output_type": "stream",
     "name": "stdout",
     "text": "[0.06960294 0.18045669 0.10010172 0.1459096  0.18674499 0.4811327\n 0.21025935]\n"
    }
   ],
   "source": [
    "DD_inverso = DD**-1\n",
    "print(DD_inverso)\n"
   ]
  },
  {
   "cell_type": "markdown",
   "metadata": {
    "collapsed": false
   },
   "source": [
    "Finalmente, se resta 1 al vector anterior"
   ]
  },
  {
   "cell_type": "code",
   "execution_count": 15,
   "metadata": {
    "collapsed": false
   },
   "outputs": [],
   "source": [
    "UNO_menos_DD_inverso = 1 - DD_inverso"
   ]
  },
  {
   "cell_type": "code",
   "execution_count": 16,
   "metadata": {
    "collapsed": false
   },
   "outputs": [
    {
     "output_type": "stream",
     "name": "stdout",
     "text": "[0.93 0.82 0.9  0.85 0.81 0.52 0.79]\n"
    }
   ],
   "source": [
    "print(UNO_menos_DD_inverso.round(2))"
   ]
  },
  {
   "cell_type": "markdown",
   "metadata": {
    "collapsed": false
   },
   "source": [
    "Y estos son los coeficientes de correlación múltiple entre cada variable y el resto. Vemos que la variable mas predicible "
   ]
  },
  {
   "cell_type": "code",
   "execution_count": 17,
   "metadata": {
    "collapsed": false
   },
   "outputs": [
    {
     "output_type": "stream",
     "name": "stdout",
     "text": "La variable mas predecible por el resto es la estatura R2 = 0.9304\nEn otros terminos, el resto de las variables explica el 93.04% de la variabilidad de esta variable\n"
    }
   ],
   "source": [
    "print('La variable mas predecible por el resto es la estatura R2 = 0.9304')\n",
    "print('En otros terminos, el resto de las variables explica el 93.04% de la variabilidad de esta variable')"
   ]
  },
  {
   "cell_type": "code",
   "execution_count": 0,
   "metadata": {
    "collapsed": false
   },
   "outputs": [],
   "source": []
  },
  {
   "cell_type": "code",
   "execution_count": 0,
   "metadata": {
    "collapsed": false
   },
   "outputs": [],
   "source": []
  },
  {
   "cell_type": "markdown",
   "metadata": {
    "collapsed": false
   },
   "source": [
    "### La ecuación para prever la estatura en funcion del resto es "
   ]
  },
  {
   "cell_type": "code",
   "execution_count": 18,
   "metadata": {
    "collapsed": false
   },
   "outputs": [
    {
     "output_type": "execute_result",
     "data": {
      "text/plain": "array([159., 164., 172., 167., 164., 161., 168., 181., 183., 158., 156.,\n       173., 158., 178., 181., 182., 176., 162., 156., 152., 181., 173.,\n       155., 189., 170., 170., 168.])"
     },
     "metadata": {},
     "execution_count": 18
    }
   ],
   "source": [
    "y_y = data_x[:,0]\n",
    "y_y"
   ]
  },
  {
   "cell_type": "code",
   "execution_count": 19,
   "metadata": {
    "collapsed": false
   },
   "outputs": [],
   "source": [
    "X_X = data_x[:,1:len(data_x)]\n",
    "\n",
    "X_X_X = np.hstack( (X_X, np.ones([len(X_X),1]) ))\n",
    "\n",
    "\n",
    "RegresionLineal = np.linalg.lstsq(X_X_X, y_y)"
   ]
  },
  {
   "cell_type": "code",
   "execution_count": 20,
   "metadata": {
    "collapsed": false
   },
   "outputs": [
    {
     "output_type": "execute_result",
     "data": {
      "text/plain": "(array([-0.09420402,  1.42983642,  0.73273366,  0.49446354,  0.34675894,\n         0.50573069,  0.91638635]),\n array([188.11353337]),\n 7,\n array([7.04191317e+02, 4.47320222e+01, 1.17560572e+01, 1.07229568e+01,\n        7.92754960e+00, 4.85681001e+00, 1.16970420e-01]))"
     },
     "metadata": {},
     "execution_count": 20
    }
   ],
   "source": [
    "RegresionLineal #PASA LA PRUEBA UNITARIA"
   ]
  },
  {
   "cell_type": "code",
   "execution_count": 0,
   "metadata": {
    "collapsed": false
   },
   "outputs": [],
   "source": []
  },
  {
   "cell_type": "markdown",
   "metadata": {
    "collapsed": false
   },
   "source": [
    "# 3 Dependencia directa entre pares: Correlaciones parciales"
   ]
  },
  {
   "cell_type": "markdown",
   "metadata": {
    "collapsed": false
   },
   "source": [
    "La dependencia directa entre dos variables controlando el efecto de las restantes se mide por\n",
    "el coeficiente de correlación parcial."
   ]
  },
  {
   "cell_type": "code",
   "execution_count": 27,
   "metadata": {
    "collapsed": false
   },
   "outputs": [],
   "source": [
    "matrizCovarianzasInev = np.linalg.inv(funciones_Estadisticas.Matriz_covarianzas(data_x))\n",
    "P = funciones_Estadisticas.estandariza_matriz(matrizCovarianzasInev)"
   ]
  },
  {
   "cell_type": "code",
   "execution_count": 28,
   "metadata": {
    "collapsed": false
   },
   "outputs": [
    {
     "data": {
      "text/plain": [
       "array([[ 1.93642466,  0.9359077 , -0.6837795 , -1.15549553, -0.61749218,\n",
       "        -0.52054348, -0.37148691],\n",
       "       [ 0.63237544,  1.54920305, -0.42253835, -0.5536696 , -0.40017144,\n",
       "        -0.47814788, -0.06225443],\n",
       "       [-1.5617431 , -1.66548509,  2.33681688,  0.20184947, -0.45731965,\n",
       "         0.39316737, -1.3025036 ],\n",
       "       [-0.55814369, -0.29286169, -0.12868478,  1.99454065, -0.41852537,\n",
       "         0.20205272, -0.21456597],\n",
       "       [-0.21511284, -0.51303872, -0.35724402, -0.6380891 ,  2.07624889,\n",
       "        -0.8510118 ,  0.59875008],\n",
       "       [-0.00246665, -0.5551031 ,  0.11341971,  0.75396237, -1.02591681,\n",
       "         2.17545312, -0.71015711],\n",
       "       [-0.23133384,  0.54137785, -0.85798994, -0.60309826,  0.84317656,\n",
       "        -0.92097005,  2.06221795]])"
      ]
     },
     "execution_count": 28,
     "metadata": {},
     "output_type": "execute_result"
    }
   ],
   "source": [
    "P"
   ]
  },
  {
   "cell_type": "code",
   "execution_count": 37,
   "metadata": {
    "collapsed": false
   },
   "outputs": [
    {
     "data": {
      "text/plain": [
       "array([[-1.  , -0.19,  0.48,  0.52,  0.32,  0.16,  0.27],\n",
       "       [-0.19, -1.  ,  0.37,  0.29,  0.34,  0.26,  0.  ],\n",
       "       [ 0.48,  0.37, -1.  , -0.11,  0.07, -0.2 ,  0.37],\n",
       "       [ 0.52,  0.29, -0.11, -1.  ,  0.13, -0.31,  0.09],\n",
       "       [ 0.32,  0.34,  0.07,  0.13, -1.  ,  0.29, -0.37],\n",
       "       [ 0.16,  0.26, -0.2 , -0.31,  0.29, -1.  ,  0.27],\n",
       "       [ 0.27,  0.  ,  0.37,  0.09, -0.37,  0.27, -1.  ]])"
      ]
     },
     "execution_count": 37,
     "metadata": {},
     "output_type": "execute_result"
    }
   ],
   "source": [
    "correlacionesParciales(data_x).round(2)"
   ]
  },
  {
   "cell_type": "code",
   "execution_count": 35,
   "metadata": {
    "collapsed": false
   },
   "outputs": [],
   "source": [
    "def correlacionesParciales(x):\n",
    "    \"\"\"\n",
    "    funcion para calcular las correlaciones entre pares de variables\n",
    "    \"\"\"\n",
    "    SdiaINV = np.diag(np.linalg.inv(funciones_Estadisticas.Matriz_covarianzas(x)))**-0.5 #son las varianzas poblacionales\n",
    "    matriz_D = np.diag(SdiaINV,0) #matriz cuadrada diagonal cuya diagonal es Sdia\n",
    "    intermedio = matriz_D.dot(np.linalg.inv(funciones_Estadisticas.Matriz_covarianzas(x)))\n",
    "    CorrelP = -1*intermedio.dot(matriz_D)\n",
    "    return CorrelP"
   ]
  },
  {
   "cell_type": "code",
   "execution_count": 38,
   "metadata": {
    "collapsed": false
   },
   "outputs": [
    {
     "data": {
      "text/plain": [
       "array([[-1.        , -0.19045163,  0.48165069,  0.51584105,  0.31943604,\n",
       "         0.16468267,  0.27211492],\n",
       "       [-0.19045163, -1.        ,  0.37047271,  0.29497085,  0.34123019,\n",
       "         0.26076059,  0.00281297],\n",
       "       [ 0.48165069,  0.37047271, -1.        , -0.10729218,  0.07020131,\n",
       "        -0.20371581,  0.36622824],\n",
       "       [ 0.51584105,  0.29497085, -0.10729218, -1.        ,  0.12778058,\n",
       "        -0.31244462,  0.09485313],\n",
       "       [ 0.31943604,  0.34123019,  0.07020131,  0.12778058, -1.        ,\n",
       "         0.28617015, -0.37294903],\n",
       "       [ 0.16468267,  0.26076059, -0.20371581, -0.31244462,  0.28617015,\n",
       "        -1.        ,  0.27004424],\n",
       "       [ 0.27211492,  0.00281297,  0.36622824,  0.09485313, -0.37294903,\n",
       "         0.27004424, -1.        ]])"
      ]
     },
     "execution_count": 38,
     "metadata": {},
     "output_type": "execute_result"
    }
   ],
   "source": [
    "correlacionesParciales(data_x)"
   ]
  },
  {
   "cell_type": "code",
   "execution_count": 39,
   "metadata": {
    "collapsed": false
   },
   "outputs": [
    {
     "data": {
      "text/plain": [
       "array([[100.09876543, 104.34567901,  26.08847737,  44.15843621,\n",
       "         33.15226337,  10.62757202,  26.15020576],\n",
       "       [104.34567901, 157.80246914,  29.99794239,  50.1255144 ,\n",
       "         41.61316872,  14.06378601,  27.95473251],\n",
       "       [ 26.08847737,  29.99794239,   7.89780521,  11.64746228,\n",
       "          8.84910837,   2.78223594,   7.40912209],\n",
       "       [ 44.15843621,  50.1255144 ,  11.64746228,  23.66529492,\n",
       "         15.38340192,   4.17558299,  11.53120713],\n",
       "       [ 33.15226337,  41.61316872,   8.84910837,  15.38340192,\n",
       "         15.57064472,   4.47085048,   7.70816187],\n",
       "       [ 10.62757202,  14.06378601,   2.78223594,   4.17558299,\n",
       "          4.47085048,   3.26611797,   3.10733882],\n",
       "       [ 26.15020576,  27.95473251,   7.40912209,  11.53120713,\n",
       "          7.70816187,   3.10733882,   9.59327846]])"
      ]
     },
     "execution_count": 39,
     "metadata": {},
     "output_type": "execute_result"
    }
   ],
   "source": [
    "Matriz_covarianzas(data_x)"
   ]
  },
  {
   "cell_type": "code",
   "execution_count": 41,
   "metadata": {
    "collapsed": false
   },
   "outputs": [
    {
     "data": {
      "text/plain": [
       "array([[ 0.144,  0.014, -0.205, -0.105, -0.071, -0.05 , -0.073],\n",
       "       [ 0.014,  0.035, -0.078, -0.03 , -0.037, -0.039, -0.   ],\n",
       "       [-0.205, -0.078,  1.265,  0.065, -0.046,  0.183, -0.29 ],\n",
       "       [-0.105, -0.03 ,  0.065,  0.29 , -0.04 ,  0.134, -0.036],\n",
       "       [-0.071, -0.037, -0.046, -0.04 ,  0.344, -0.134,  0.154],\n",
       "       [-0.05 , -0.039,  0.183,  0.134, -0.134,  0.636, -0.152],\n",
       "       [-0.073, -0.   , -0.29 , -0.036,  0.154, -0.152,  0.496]])"
      ]
     },
     "execution_count": 41,
     "metadata": {},
     "output_type": "execute_result"
    }
   ],
   "source": [
    "np.linalg.inv(Matriz_covarianzas(data_x)).round(3)"
   ]
  },
  {
   "cell_type": "code",
   "execution_count": 42,
   "metadata": {
    "collapsed": false
   },
   "outputs": [
    {
     "data": {
      "text/plain": [
       "array([-0.14353034, -0.03511666, -1.26488794, -0.28960377, -0.34390971,\n",
       "       -0.63636057, -0.49576703])"
      ]
     },
     "execution_count": 42,
     "metadata": {},
     "output_type": "execute_result"
    }
   ],
   "source": [
    "-1*np.diag(np.linalg.inv(funciones_Estadisticas.Matriz_covarianzas(data_x)))"
   ]
  },
  {
   "cell_type": "code",
   "execution_count": 0,
   "metadata": {
    "collapsed": false
   },
   "outputs": [],
   "source": []
  },
  {
   "cell_type": "code",
   "execution_count": 0,
   "metadata": {
    "collapsed": false
   },
   "outputs": [],
   "source": []
  },
  {
   "cell_type": "markdown",
   "metadata": {
    "collapsed": false
   },
   "source": [
    "# 4 El coeficiente de dependencia"
   ]
  },
  {
   "cell_type": "markdown",
   "metadata": {
    "collapsed": false
   },
   "source": [
    "$$\n",
    "D = 1- |R|^{1/(n-1)}\n",
    "$$"
   ]
  },
  {
   "cell_type": "code",
   "execution_count": 45,
   "metadata": {
    "collapsed": false
   },
   "outputs": [
    {
     "data": {
      "text/plain": [
       "0.7700370952275613"
      ]
     },
     "execution_count": 45,
     "metadata": {},
     "output_type": "execute_result"
    }
   ],
   "source": [
    "Det = np.linalg.det(funciones_Estadisticas.correlaciones(data_x))\n",
    "f = (len(funciones_Estadisticas.correlaciones(data_x))-1)\n",
    "D = 1 - Det**(1/f)\n",
    "D"
   ]
  },
  {
   "cell_type": "markdown",
   "metadata": {
    "collapsed": false
   },
   "source": [
    "Se concluye que globalmente, la dependencia lineal explica 77% de la variabilidad de este conjunto de datos. "
   ]
  },
  {
   "cell_type": "code",
   "execution_count": 0,
   "metadata": {
    "collapsed": false
   },
   "outputs": [],
   "source": []
  },
  {
   "cell_type": "code",
   "execution_count": 0,
   "metadata": {
    "collapsed": false
   },
   "outputs": [],
   "source": []
  },
  {
   "cell_type": "code",
   "execution_count": 0,
   "metadata": {
    "collapsed": false
   },
   "outputs": [],
   "source": []
  }
 ],
 "metadata": {
  "kernelspec": {
   "display_name": "Python 3",
   "language": "python",
   "metadata": {
    "cocalc": {
     "description": "Python 3 programming language",
     "priority": 100,
     "url": "https://www.python.org/"
    }
   },
   "name": "python3"
  },
  "language_info": {
   "codemirror_mode": {
    "name": "ipython",
    "version": 3
   },
   "file_extension": ".py",
   "mimetype": "text/x-python",
   "name": "python",
   "nbconvert_exporter": "python",
   "pygments_lexer": "ipython3",
   "version": "3.7.6-final"
  }
 },
 "nbformat": 4,
 "nbformat_minor": 4
}