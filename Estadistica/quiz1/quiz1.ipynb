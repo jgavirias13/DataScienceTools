{
 "cells": [
  {
   "cell_type": "markdown",
   "metadata": {},
   "source": [
    "# Quiz 1\n",
    "\n",
    "**Por:** Juan Pablo Gaviria Salazar"
   ]
  },
  {
   "cell_type": "markdown",
   "metadata": {},
   "source": [
    "## Punto 1"
   ]
  },
  {
   "cell_type": "code",
   "execution_count": 2,
   "metadata": {},
   "outputs": [],
   "source": [
    "import numpy as np\n",
    "import pandas as pd\n",
    "import statsmodels.formula.api as smf\n",
    "import funciones_Estadisticas as funciones"
   ]
  },
  {
   "cell_type": "code",
   "execution_count": 2,
   "metadata": {},
   "outputs": [
    {
     "output_type": "execute_result",
     "data": {
      "text/plain": "           x1        x2  y\n0    0.051267  0.699560  1\n1   -0.092742  0.684940  1\n2   -0.213710  0.692250  1\n3   -0.375000  0.502190  1\n4   -0.513250  0.465640  1\n..        ...       ... ..\n113 -0.720620  0.538740  0\n114 -0.593890  0.494880  0\n115 -0.484450  0.999270  0\n116 -0.006336  0.999270  0\n117  0.632650 -0.030612  0\n\n[118 rows x 3 columns]",
      "text/html": "<div>\n<style scoped>\n    .dataframe tbody tr th:only-of-type {\n        vertical-align: middle;\n    }\n\n    .dataframe tbody tr th {\n        vertical-align: top;\n    }\n\n    .dataframe thead th {\n        text-align: right;\n    }\n</style>\n<table border=\"1\" class=\"dataframe\">\n  <thead>\n    <tr style=\"text-align: right;\">\n      <th></th>\n      <th>x1</th>\n      <th>x2</th>\n      <th>y</th>\n    </tr>\n  </thead>\n  <tbody>\n    <tr>\n      <th>0</th>\n      <td>0.051267</td>\n      <td>0.699560</td>\n      <td>1</td>\n    </tr>\n    <tr>\n      <th>1</th>\n      <td>-0.092742</td>\n      <td>0.684940</td>\n      <td>1</td>\n    </tr>\n    <tr>\n      <th>2</th>\n      <td>-0.213710</td>\n      <td>0.692250</td>\n      <td>1</td>\n    </tr>\n    <tr>\n      <th>3</th>\n      <td>-0.375000</td>\n      <td>0.502190</td>\n      <td>1</td>\n    </tr>\n    <tr>\n      <th>4</th>\n      <td>-0.513250</td>\n      <td>0.465640</td>\n      <td>1</td>\n    </tr>\n    <tr>\n      <th>...</th>\n      <td>...</td>\n      <td>...</td>\n      <td>...</td>\n    </tr>\n    <tr>\n      <th>113</th>\n      <td>-0.720620</td>\n      <td>0.538740</td>\n      <td>0</td>\n    </tr>\n    <tr>\n      <th>114</th>\n      <td>-0.593890</td>\n      <td>0.494880</td>\n      <td>0</td>\n    </tr>\n    <tr>\n      <th>115</th>\n      <td>-0.484450</td>\n      <td>0.999270</td>\n      <td>0</td>\n    </tr>\n    <tr>\n      <th>116</th>\n      <td>-0.006336</td>\n      <td>0.999270</td>\n      <td>0</td>\n    </tr>\n    <tr>\n      <th>117</th>\n      <td>0.632650</td>\n      <td>-0.030612</td>\n      <td>0</td>\n    </tr>\n  </tbody>\n</table>\n<p>118 rows × 3 columns</p>\n</div>"
     },
     "metadata": {},
     "execution_count": 2
    }
   ],
   "source": [
    "data = pd.read_csv('quis11.txt', names=['x1','x2','y'])\n",
    "data"
   ]
  },
  {
   "cell_type": "code",
   "execution_count": 3,
   "metadata": {},
   "outputs": [
    {
     "output_type": "stream",
     "name": "stdout",
     "text": "OLS Regression Results                            \n==============================================================================\nDep. Variable:                      y   R-squared:                       0.006\nModel:                            OLS   Adj. R-squared:                 -0.012\nMethod:                 Least Squares   F-statistic:                    0.3188\nDate:                Sat, 23 May 2020   Prob (F-statistic):              0.728\nTime:                        09:02:55   Log-Likelihood:                -85.300\nNo. Observations:                 118   AIC:                             176.6\nDf Residuals:                     115   BIC:                             184.9\nDf Model:                           2                                         \nCovariance Type:            nonrobust                                         \n==============================================================================\n                 coef    std err          t      P>|t|      [0.025      0.975]\n------------------------------------------------------------------------------\nIntercept      0.4965      0.050      9.953      0.000       0.398       0.595\nx1            -0.0756      0.095     -0.796      0.428      -0.264       0.112\nx2            -0.0045      0.091     -0.050      0.960      -0.184       0.175\n==============================================================================\nOmnibus:                      859.991   Durbin-Watson:                   0.033\nProb(Omnibus):                  0.000   Jarque-Bera (JB):               19.236\nSkew:                           0.027   Prob(JB):                     6.65e-05\nKurtosis:                       1.023   Cond. No.                         2.22\n==============================================================================\n\nWarnings:\n[1] Standard Errors assume that the covariance matrix of the errors is correctly specified.\n"
    }
   ],
   "source": [
    "model = smf.ols(\"y ~ 1 + x1 + x2\", data)\n",
    "result = model.fit()\n",
    "print(result.summary())"
   ]
  },
  {
   "cell_type": "code",
   "execution_count": 12,
   "metadata": {},
   "outputs": [
    {
     "output_type": "stream",
     "name": "stdout",
     "text": "Precision obtenida 0.551%\n"
    }
   ],
   "source": [
    "print('Precision obtenida {0:.3%}'.format(result.rsquared))"
   ]
  },
  {
   "cell_type": "markdown",
   "metadata": {},
   "source": [
    "## Punto 2"
   ]
  },
  {
   "cell_type": "markdown",
   "metadata": {},
   "source": [
    "### Primera parte, modelo 1"
   ]
  },
  {
   "cell_type": "code",
   "execution_count": 14,
   "metadata": {},
   "outputs": [
    {
     "output_type": "stream",
     "name": "stdout",
     "text": "OLS Regression Results                            \n==============================================================================\nDep. Variable:                      y   R-squared:                       0.512\nModel:                            OLS   Adj. R-squared:                  0.490\nMethod:                 Least Squares   F-statistic:                     23.49\nDate:                Sat, 23 May 2020   Prob (F-statistic):           4.42e-16\nTime:                        09:07:05   Log-Likelihood:                -43.314\nNo. Observations:                 118   AIC:                             98.63\nDf Residuals:                     112   BIC:                             115.3\nDf Model:                           5                                         \nCovariance Type:            nonrobust                                         \n==============================================================================\n                 coef    std err          t      P>|t|      [0.025      0.975]\n------------------------------------------------------------------------------\nIntercept      1.1801      0.074     15.850      0.000       1.033       1.328\nx1             0.3799      0.082      4.639      0.000       0.218       0.542\nx2             0.5098      0.088      5.780      0.000       0.335       0.685\npow(x1, 2)    -1.5227      0.162     -9.386      0.000      -1.844      -1.201\nx1:x2         -0.7541      0.168     -4.501      0.000      -1.086      -0.422\npow(x2, 2)    -1.4764      0.168     -8.795      0.000      -1.809      -1.144\n==============================================================================\nOmnibus:                        2.174   Durbin-Watson:                   0.699\nProb(Omnibus):                  0.337   Jarque-Bera (JB):                2.076\nSkew:                          -0.246   Prob(JB):                        0.354\nKurtosis:                       2.575   Cond. No.                         7.77\n==============================================================================\n\nWarnings:\n[1] Standard Errors assume that the covariance matrix of the errors is correctly specified.\n"
    }
   ],
   "source": [
    "model = smf.ols(\"y ~ 1 + x1 + x2 + pow(x1,2) + x1*x2 + pow(x2,2)\", data)\n",
    "result = model.fit()\n",
    "print(result.summary())"
   ]
  },
  {
   "cell_type": "code",
   "execution_count": 15,
   "metadata": {},
   "outputs": [
    {
     "output_type": "stream",
     "name": "stdout",
     "text": "Precision obtenida 51.187%\n"
    }
   ],
   "source": [
    "print('Precision obtenida {0:.3%}'.format(result.rsquared))"
   ]
  },
  {
   "cell_type": "markdown",
   "metadata": {},
   "source": [
    "### Segunda parte, modelo 2"
   ]
  },
  {
   "cell_type": "code",
   "execution_count": 16,
   "metadata": {},
   "outputs": [
    {
     "output_type": "stream",
     "name": "stdout",
     "text": "OLS Regression Results                            \n==============================================================================\nDep. Variable:                      y   R-squared:                       0.514\nModel:                            OLS   Adj. R-squared:                  0.474\nMethod:                 Least Squares   F-statistic:                     12.70\nDate:                Sat, 23 May 2020   Prob (F-statistic):           1.41e-13\nTime:                        09:07:29   Log-Likelihood:                -43.046\nNo. Observations:                 118   AIC:                             106.1\nDf Residuals:                     108   BIC:                             133.8\nDf Model:                           9                                         \nCovariance Type:            nonrobust                                         \n=================================================================================\n                    coef    std err          t      P>|t|      [0.025      0.975]\n---------------------------------------------------------------------------------\nIntercept         1.1754      0.084     14.063      0.000       1.010       1.341\nx1                0.3314      0.209      1.583      0.116      -0.084       0.746\nx2                0.5459      0.172      3.169      0.002       0.204       0.887\npow(x1, 2)       -1.5293      0.201     -7.591      0.000      -1.929      -1.130\nx1:x2            -0.8356      0.256     -3.260      0.001      -1.344      -0.328\npow(x2, 2)       -1.4701      0.257     -5.725      0.000      -1.979      -0.961\npow(x1, 3)        0.0244      0.345      0.071      0.944      -0.660       0.709\npow(x1, 2):x2     0.0368      0.422      0.087      0.931      -0.800       0.873\nx1:pow(x2, 2)     0.2488      0.463      0.538      0.592      -0.668       1.166\npow(x2, 3)       -0.0566      0.326     -0.173      0.863      -0.704       0.590\n==============================================================================\nOmnibus:                        2.171   Durbin-Watson:                   0.722\nProb(Omnibus):                  0.338   Jarque-Bera (JB):                2.058\nSkew:                          -0.241   Prob(JB):                        0.357\nKurtosis:                       2.568   Cond. No.                         21.3\n==============================================================================\n\nWarnings:\n[1] Standard Errors assume that the covariance matrix of the errors is correctly specified.\n"
    }
   ],
   "source": [
    "model = smf.ols(\"y ~ 1 + x1 + x2 + pow(x1,2) + x1*x2 + pow(x2,2) + pow(x1,3) + pow(x1,2)*x2 + x1*pow(x2,2) + pow(x2,3)\", data)\n",
    "result = model.fit()\n",
    "print(result.summary())"
   ]
  },
  {
   "cell_type": "code",
   "execution_count": 17,
   "metadata": {},
   "outputs": [
    {
     "output_type": "stream",
     "name": "stdout",
     "text": "Precision obtenida 51.408%\n"
    }
   ],
   "source": [
    "print('Precision obtenida {0:.3%}'.format(result.rsquared))"
   ]
  },
  {
   "cell_type": "markdown",
   "metadata": {},
   "source": [
    "## Punto 3"
   ]
  },
  {
   "cell_type": "markdown",
   "metadata": {},
   "source": [
    "### Parte 1"
   ]
  },
  {
   "cell_type": "code",
   "execution_count": 18,
   "metadata": {},
   "outputs": [
    {
     "output_type": "execute_result",
     "data": {
      "text/plain": "      Unnamed: 0     wfood    whouse     wmisc   pfood    phouse     pmisc  \\\n0              1  1.334811  0.737739  0.192004  0.1946  0.158281  0.176277   \n1              2  1.111856  0.664423  0.290967  0.1946  0.156717  0.176102   \n2              3  1.180340  0.734448  0.462126  0.1946  0.154560  0.176453   \n3              4  1.349708  0.881997  0.704397  0.1946  0.155571  0.174498   \n4              5  1.547675  1.202431  0.976673  0.1946  0.157675  0.173439   \n...          ...       ...       ...       ...     ...       ...       ...   \n1724        1725  1.606133  1.063974  1.412375  1.4263  1.668869  1.480920   \n1725        1726  1.535744  1.008926  1.883404  1.4263  1.679859  1.451332   \n1726        1727  1.364467  0.981355  1.806453  1.4263  1.672213  1.476982   \n1727        1728  1.442346  1.012922  1.848047  1.4263  1.650462  1.481118   \n1728        1729  0.311702  0.310659  0.728497  1.4263  1.628884  1.470701   \n\n        totexp  year  income  size   pct  \n0     0.037848    73       1     1  19.5  \n1     0.062401    73       2     1  23.4  \n2     0.086384    73       3     1  17.7  \n3     0.111509    73       4     1  11.6  \n4     0.136239    73       5     1   7.2  \n...        ...   ...     ...   ...   ...  \n1724  2.305227    92      11     6   6.0  \n1725  2.514479    92      12     6   5.1  \n1726  2.698539    92      13     6   5.8  \n1727  2.867639    92      14     6   5.4  \n1728  5.076947    92      15     6  54.8  \n\n[1729 rows x 12 columns]",
      "text/html": "<div>\n<style scoped>\n    .dataframe tbody tr th:only-of-type {\n        vertical-align: middle;\n    }\n\n    .dataframe tbody tr th {\n        vertical-align: top;\n    }\n\n    .dataframe thead th {\n        text-align: right;\n    }\n</style>\n<table border=\"1\" class=\"dataframe\">\n  <thead>\n    <tr style=\"text-align: right;\">\n      <th></th>\n      <th>Unnamed: 0</th>\n      <th>wfood</th>\n      <th>whouse</th>\n      <th>wmisc</th>\n      <th>pfood</th>\n      <th>phouse</th>\n      <th>pmisc</th>\n      <th>totexp</th>\n      <th>year</th>\n      <th>income</th>\n      <th>size</th>\n      <th>pct</th>\n    </tr>\n  </thead>\n  <tbody>\n    <tr>\n      <th>0</th>\n      <td>1</td>\n      <td>1.334811</td>\n      <td>0.737739</td>\n      <td>0.192004</td>\n      <td>0.1946</td>\n      <td>0.158281</td>\n      <td>0.176277</td>\n      <td>0.037848</td>\n      <td>73</td>\n      <td>1</td>\n      <td>1</td>\n      <td>19.5</td>\n    </tr>\n    <tr>\n      <th>1</th>\n      <td>2</td>\n      <td>1.111856</td>\n      <td>0.664423</td>\n      <td>0.290967</td>\n      <td>0.1946</td>\n      <td>0.156717</td>\n      <td>0.176102</td>\n      <td>0.062401</td>\n      <td>73</td>\n      <td>2</td>\n      <td>1</td>\n      <td>23.4</td>\n    </tr>\n    <tr>\n      <th>2</th>\n      <td>3</td>\n      <td>1.180340</td>\n      <td>0.734448</td>\n      <td>0.462126</td>\n      <td>0.1946</td>\n      <td>0.154560</td>\n      <td>0.176453</td>\n      <td>0.086384</td>\n      <td>73</td>\n      <td>3</td>\n      <td>1</td>\n      <td>17.7</td>\n    </tr>\n    <tr>\n      <th>3</th>\n      <td>4</td>\n      <td>1.349708</td>\n      <td>0.881997</td>\n      <td>0.704397</td>\n      <td>0.1946</td>\n      <td>0.155571</td>\n      <td>0.174498</td>\n      <td>0.111509</td>\n      <td>73</td>\n      <td>4</td>\n      <td>1</td>\n      <td>11.6</td>\n    </tr>\n    <tr>\n      <th>4</th>\n      <td>5</td>\n      <td>1.547675</td>\n      <td>1.202431</td>\n      <td>0.976673</td>\n      <td>0.1946</td>\n      <td>0.157675</td>\n      <td>0.173439</td>\n      <td>0.136239</td>\n      <td>73</td>\n      <td>5</td>\n      <td>1</td>\n      <td>7.2</td>\n    </tr>\n    <tr>\n      <th>...</th>\n      <td>...</td>\n      <td>...</td>\n      <td>...</td>\n      <td>...</td>\n      <td>...</td>\n      <td>...</td>\n      <td>...</td>\n      <td>...</td>\n      <td>...</td>\n      <td>...</td>\n      <td>...</td>\n      <td>...</td>\n    </tr>\n    <tr>\n      <th>1724</th>\n      <td>1725</td>\n      <td>1.606133</td>\n      <td>1.063974</td>\n      <td>1.412375</td>\n      <td>1.4263</td>\n      <td>1.668869</td>\n      <td>1.480920</td>\n      <td>2.305227</td>\n      <td>92</td>\n      <td>11</td>\n      <td>6</td>\n      <td>6.0</td>\n    </tr>\n    <tr>\n      <th>1725</th>\n      <td>1726</td>\n      <td>1.535744</td>\n      <td>1.008926</td>\n      <td>1.883404</td>\n      <td>1.4263</td>\n      <td>1.679859</td>\n      <td>1.451332</td>\n      <td>2.514479</td>\n      <td>92</td>\n      <td>12</td>\n      <td>6</td>\n      <td>5.1</td>\n    </tr>\n    <tr>\n      <th>1726</th>\n      <td>1727</td>\n      <td>1.364467</td>\n      <td>0.981355</td>\n      <td>1.806453</td>\n      <td>1.4263</td>\n      <td>1.672213</td>\n      <td>1.476982</td>\n      <td>2.698539</td>\n      <td>92</td>\n      <td>13</td>\n      <td>6</td>\n      <td>5.8</td>\n    </tr>\n    <tr>\n      <th>1727</th>\n      <td>1728</td>\n      <td>1.442346</td>\n      <td>1.012922</td>\n      <td>1.848047</td>\n      <td>1.4263</td>\n      <td>1.650462</td>\n      <td>1.481118</td>\n      <td>2.867639</td>\n      <td>92</td>\n      <td>14</td>\n      <td>6</td>\n      <td>5.4</td>\n    </tr>\n    <tr>\n      <th>1728</th>\n      <td>1729</td>\n      <td>0.311702</td>\n      <td>0.310659</td>\n      <td>0.728497</td>\n      <td>1.4263</td>\n      <td>1.628884</td>\n      <td>1.470701</td>\n      <td>5.076947</td>\n      <td>92</td>\n      <td>15</td>\n      <td>6</td>\n      <td>54.8</td>\n    </tr>\n  </tbody>\n</table>\n<p>1729 rows × 12 columns</p>\n</div>"
     },
     "metadata": {},
     "execution_count": 18
    }
   ],
   "source": [
    "data = pd.read_csv('quis12.csv')\n",
    "data"
   ]
  },
  {
   "cell_type": "code",
   "execution_count": 19,
   "metadata": {},
   "outputs": [
    {
     "output_type": "execute_result",
     "data": {
      "text/plain": "         wfood    whouse     wmisc   pfood    phouse     pmisc    totexp\n0     1.334811  0.737739  0.192004  0.1946  0.158281  0.176277  0.037848\n1     1.111856  0.664423  0.290967  0.1946  0.156717  0.176102  0.062401\n2     1.180340  0.734448  0.462126  0.1946  0.154560  0.176453  0.086384\n3     1.349708  0.881997  0.704397  0.1946  0.155571  0.174498  0.111509\n4     1.547675  1.202431  0.976673  0.1946  0.157675  0.173439  0.136239\n...        ...       ...       ...     ...       ...       ...       ...\n1724  1.606133  1.063974  1.412375  1.4263  1.668869  1.480920  2.305227\n1725  1.535744  1.008926  1.883404  1.4263  1.679859  1.451332  2.514479\n1726  1.364467  0.981355  1.806453  1.4263  1.672213  1.476982  2.698539\n1727  1.442346  1.012922  1.848047  1.4263  1.650462  1.481118  2.867639\n1728  0.311702  0.310659  0.728497  1.4263  1.628884  1.470701  5.076947\n\n[1729 rows x 7 columns]",
      "text/html": "<div>\n<style scoped>\n    .dataframe tbody tr th:only-of-type {\n        vertical-align: middle;\n    }\n\n    .dataframe tbody tr th {\n        vertical-align: top;\n    }\n\n    .dataframe thead th {\n        text-align: right;\n    }\n</style>\n<table border=\"1\" class=\"dataframe\">\n  <thead>\n    <tr style=\"text-align: right;\">\n      <th></th>\n      <th>wfood</th>\n      <th>whouse</th>\n      <th>wmisc</th>\n      <th>pfood</th>\n      <th>phouse</th>\n      <th>pmisc</th>\n      <th>totexp</th>\n    </tr>\n  </thead>\n  <tbody>\n    <tr>\n      <th>0</th>\n      <td>1.334811</td>\n      <td>0.737739</td>\n      <td>0.192004</td>\n      <td>0.1946</td>\n      <td>0.158281</td>\n      <td>0.176277</td>\n      <td>0.037848</td>\n    </tr>\n    <tr>\n      <th>1</th>\n      <td>1.111856</td>\n      <td>0.664423</td>\n      <td>0.290967</td>\n      <td>0.1946</td>\n      <td>0.156717</td>\n      <td>0.176102</td>\n      <td>0.062401</td>\n    </tr>\n    <tr>\n      <th>2</th>\n      <td>1.180340</td>\n      <td>0.734448</td>\n      <td>0.462126</td>\n      <td>0.1946</td>\n      <td>0.154560</td>\n      <td>0.176453</td>\n      <td>0.086384</td>\n    </tr>\n    <tr>\n      <th>3</th>\n      <td>1.349708</td>\n      <td>0.881997</td>\n      <td>0.704397</td>\n      <td>0.1946</td>\n      <td>0.155571</td>\n      <td>0.174498</td>\n      <td>0.111509</td>\n    </tr>\n    <tr>\n      <th>4</th>\n      <td>1.547675</td>\n      <td>1.202431</td>\n      <td>0.976673</td>\n      <td>0.1946</td>\n      <td>0.157675</td>\n      <td>0.173439</td>\n      <td>0.136239</td>\n    </tr>\n    <tr>\n      <th>...</th>\n      <td>...</td>\n      <td>...</td>\n      <td>...</td>\n      <td>...</td>\n      <td>...</td>\n      <td>...</td>\n      <td>...</td>\n    </tr>\n    <tr>\n      <th>1724</th>\n      <td>1.606133</td>\n      <td>1.063974</td>\n      <td>1.412375</td>\n      <td>1.4263</td>\n      <td>1.668869</td>\n      <td>1.480920</td>\n      <td>2.305227</td>\n    </tr>\n    <tr>\n      <th>1725</th>\n      <td>1.535744</td>\n      <td>1.008926</td>\n      <td>1.883404</td>\n      <td>1.4263</td>\n      <td>1.679859</td>\n      <td>1.451332</td>\n      <td>2.514479</td>\n    </tr>\n    <tr>\n      <th>1726</th>\n      <td>1.364467</td>\n      <td>0.981355</td>\n      <td>1.806453</td>\n      <td>1.4263</td>\n      <td>1.672213</td>\n      <td>1.476982</td>\n      <td>2.698539</td>\n    </tr>\n    <tr>\n      <th>1727</th>\n      <td>1.442346</td>\n      <td>1.012922</td>\n      <td>1.848047</td>\n      <td>1.4263</td>\n      <td>1.650462</td>\n      <td>1.481118</td>\n      <td>2.867639</td>\n    </tr>\n    <tr>\n      <th>1728</th>\n      <td>0.311702</td>\n      <td>0.310659</td>\n      <td>0.728497</td>\n      <td>1.4263</td>\n      <td>1.628884</td>\n      <td>1.470701</td>\n      <td>5.076947</td>\n    </tr>\n  </tbody>\n</table>\n<p>1729 rows × 7 columns</p>\n</div>"
     },
     "metadata": {},
     "execution_count": 19
    }
   ],
   "source": [
    "data = data.drop(data.columns[[0,8,9,10,11]],1)\n",
    "data"
   ]
  },
  {
   "cell_type": "code",
   "execution_count": 20,
   "metadata": {},
   "outputs": [],
   "source": [
    "npData = np.array(data)"
   ]
  },
  {
   "cell_type": "code",
   "execution_count": 21,
   "metadata": {},
   "outputs": [
    {
     "output_type": "execute_result",
     "data": {
      "text/plain": "array([[ 8.70000e-01, -1.50000e+00,  4.80000e-01, -5.95000e+00,\n        -3.90000e-01,  6.34000e+00,  1.00000e-01],\n       [-1.50000e+00,  3.80000e+00, -1.50000e+00,  1.43300e+01,\n        -5.20000e-01, -1.44300e+01,  5.40000e-01],\n       [ 4.80000e-01, -1.50000e+00,  1.15000e+00, -8.91000e+00,\n        -1.60000e-01,  9.52000e+00, -5.80000e-01],\n       [-5.95000e+00,  1.43300e+01, -8.91000e+00,  2.38100e+03,\n         2.93220e+02, -2.51086e+03,  2.02000e+00],\n       [-3.90000e-01, -5.20000e-01, -1.60000e-01,  2.93220e+02,\n         5.03540e+02, -8.25610e+02,  1.66000e+00],\n       [ 6.34000e+00, -1.44300e+01,  9.52000e+00, -2.51086e+03,\n        -8.25610e+02,  3.22867e+03, -6.77000e+00],\n       [ 1.00000e-01,  5.40000e-01, -5.80000e-01,  2.02000e+00,\n         1.66000e+00, -6.77000e+00,  2.16000e+00]])"
     },
     "metadata": {},
     "execution_count": 21
    }
   ],
   "source": [
    "s_menos_uno = np.linalg.inv(funciones.Matriz_covarianzas(npData))\n",
    "s_menos_uno.round(2)"
   ]
  },
  {
   "cell_type": "code",
   "execution_count": 22,
   "metadata": {},
   "outputs": [
    {
     "output_type": "stream",
     "name": "stdout",
     "text": "[  3.95157247   5.62748569   2.42998598 362.28621078 111.4219185\n 583.69896609   2.20214363]\n"
    }
   ],
   "source": [
    "DD = np.diag(s_menos_uno)*np.diag(funciones.Matriz_covarianzas(npData))\n",
    "print(DD)"
   ]
  },
  {
   "cell_type": "code",
   "execution_count": 23,
   "metadata": {},
   "outputs": [
    {
     "output_type": "stream",
     "name": "stdout",
     "text": "[0.25306381 0.17769925 0.41152501 0.00276025 0.00897489 0.00171321\n 0.45410299]\n"
    }
   ],
   "source": [
    "DD_inverso = DD**-1\n",
    "print(DD_inverso)"
   ]
  },
  {
   "cell_type": "code",
   "execution_count": 24,
   "metadata": {},
   "outputs": [
    {
     "output_type": "stream",
     "name": "stdout",
     "text": "[0.74693619 0.82230075 0.58847499 0.99723975 0.99102511 0.99828679\n 0.54589701]\n"
    }
   ],
   "source": [
    "UNO_menos_DD_inverso = 1 - DD_inverso\n",
    "print(UNO_menos_DD_inverso)"
   ]
  },
  {
   "cell_type": "code",
   "execution_count": 25,
   "metadata": {},
   "outputs": [
    {
     "output_type": "stream",
     "name": "stdout",
     "text": "La variable con mayor correlacion multiple es: pmisc con 0.9982867881252302\n"
    }
   ],
   "source": [
    "maxindex = np.argmax(UNO_menos_DD_inverso)\n",
    "maximo = np.max(UNO_menos_DD_inverso)\n",
    "mayorCorr = list(data.columns)[maxindex]\n",
    "print('La variable con mayor correlacion multiple es: '+mayorCorr+' con '+str(maximo))"
   ]
  },
  {
   "cell_type": "markdown",
   "metadata": {},
   "source": [
    "### Parte 2"
   ]
  },
  {
   "cell_type": "code",
   "execution_count": 26,
   "metadata": {},
   "outputs": [
    {
     "output_type": "stream",
     "name": "stdout",
     "text": "OLS Regression Results                            \n==============================================================================\nDep. Variable:                  pmisc   R-squared:                       0.998\nModel:                            OLS   Adj. R-squared:                  0.998\nMethod:                 Least Squares   F-statistic:                 1.672e+05\nDate:                Sat, 23 May 2020   Prob (F-statistic):               0.00\nTime:                        09:08:58   Log-Likelihood:                 4531.7\nNo. Observations:                1729   AIC:                            -9049.\nDf Residuals:                    1722   BIC:                            -9011.\nDf Model:                           6                                         \nCovariance Type:            nonrobust                                         \n==============================================================================\n                 coef    std err          t      P>|t|      [0.025      0.975]\n------------------------------------------------------------------------------\nIntercept     -0.0360      0.002    -22.023      0.000      -0.039      -0.033\nwfood         -0.0020      0.000     -5.003      0.000      -0.003      -0.001\nwhouse         0.0045      0.001      5.454      0.000       0.003       0.006\nwmisc         -0.0029      0.000     -6.569      0.000      -0.004      -0.002\npfood          0.7777      0.009     88.597      0.000       0.760       0.795\nphouse         0.2557      0.007     35.259      0.000       0.241       0.270\ntotexp         0.0021      0.001      3.377      0.001       0.001       0.003\n==============================================================================\nOmnibus:                       40.152   Durbin-Watson:                   0.141\nProb(Omnibus):                  0.000   Jarque-Bera (JB):               28.248\nSkew:                           0.202   Prob(JB):                     7.35e-07\nKurtosis:                       2.521   Cond. No.                         114.\n==============================================================================\n\nWarnings:\n[1] Standard Errors assume that the covariance matrix of the errors is correctly specified.\n"
    }
   ],
   "source": [
    "model = smf.ols(\"pmisc ~ wfood + whouse + wmisc + pfood + phouse + totexp\", data)\n",
    "result = model.fit()\n",
    "print(result.summary())"
   ]
  },
  {
   "cell_type": "code",
   "execution_count": 27,
   "metadata": {},
   "outputs": [
    {
     "output_type": "stream",
     "name": "stdout",
     "text": "Parametros encontrados:\nIntercept   -0.035967\nwfood       -0.001965\nwhouse       0.004471\nwmisc       -0.002948\npfood        0.777676\nphouse       0.255712\ntotexp       0.002097\ndtype: float64\n"
    }
   ],
   "source": [
    "print('Parametros encontrados:')\n",
    "print(result.params)"
   ]
  },
  {
   "cell_type": "markdown",
   "metadata": {},
   "source": [
    "### Punto 3"
   ]
  },
  {
   "cell_type": "code",
   "execution_count": 3,
   "metadata": {},
   "outputs": [],
   "source": [
    "import numpy as np"
   ]
  },
  {
   "cell_type": "code",
   "execution_count": 5,
   "metadata": {},
   "outputs": [
    {
     "output_type": "execute_result",
     "data": {
      "text/plain": "array([[-2,  0],\n       [-1,  0],\n       [ 0,  1],\n       [ 1,  1],\n       [ 2,  3]])"
     },
     "metadata": {},
     "execution_count": 5
    }
   ],
   "source": [
    "X = np.array([[-2, -1, 0, 1, 2],[0, 0, 1, 1, 3]]).T\n",
    "X"
   ]
  },
  {
   "cell_type": "code",
   "execution_count": 7,
   "metadata": {},
   "outputs": [
    {
     "output_type": "execute_result",
     "data": {
      "text/plain": "array([0, 1, 1, 0, 1])"
     },
     "metadata": {},
     "execution_count": 7
    }
   ],
   "source": [
    "Y = np.array([0, 1, 1, 0, 1])\n",
    "Y"
   ]
  },
  {
   "cell_type": "code",
   "execution_count": null,
   "metadata": {},
   "outputs": [],
   "source": []
  }
 ],
 "metadata": {
  "language_info": {
   "codemirror_mode": {
    "name": "ipython",
    "version": 3
   },
   "file_extension": ".py",
   "mimetype": "text/x-python",
   "name": "python",
   "nbconvert_exporter": "python",
   "pygments_lexer": "ipython3",
   "version": "3.7.6-final"
  },
  "orig_nbformat": 2,
  "kernelspec": {
   "name": "python3",
   "display_name": "Python 3"
  }
 },
 "nbformat": 4,
 "nbformat_minor": 2
}