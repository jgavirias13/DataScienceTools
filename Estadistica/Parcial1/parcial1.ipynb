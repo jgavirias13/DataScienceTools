{
 "cells": [
  {
   "cell_type": "markdown",
   "metadata": {},
   "source": [
    "# Parcial 1\n",
    "\n",
    "**Por:** Juan Pablo Gaviria Salazar"
   ]
  },
  {
   "cell_type": "markdown",
   "metadata": {},
   "source": [
    "## Punto 1"
   ]
  },
  {
   "cell_type": "code",
   "execution_count": 14,
   "metadata": {},
   "outputs": [],
   "source": [
    "import pandas as pd\n",
    "import numpy as np\n",
    "import funciones_Estadisticas"
   ]
  },
  {
   "cell_type": "code",
   "execution_count": 26,
   "metadata": {},
   "outputs": [
    {
     "output_type": "execute_result",
     "data": {
      "text/plain": "         0         1         2         3         4         5         6   \\\n0  0.425412  0.963017 -1.171675  0.197261 -0.062037 -1.193000  1.147974   \n1  0.515463 -0.749762  0.311720  0.940127  0.787731  2.031914  1.352715   \n2  0.641297 -0.797998  0.776563  1.258457 -0.457238  0.267825  0.038383   \n3 -1.502908  0.189141  0.397864  1.356587 -1.284925 -1.661080  0.101682   \n4 -1.054552 -0.698700  0.825328  0.291255 -0.648475 -0.710156 -0.966905   \n\n         7         8         9   ...        50        51        52        53  \\\n0  1.011126 -1.521791  0.483465  ... -0.133721 -0.304364 -1.226846 -0.042188   \n1  0.089727 -1.050671  1.944048  ...  0.069429  0.190096  0.085250  0.461421   \n2  0.015826 -0.522692 -1.061474  ...  0.177881  0.565500  1.413151  0.250258   \n3 -0.787285 -0.957499  1.400472  ... -0.760409 -0.194333 -0.561055 -0.459244   \n4 -0.514079  2.348331  0.231894  ...  0.412633 -0.225907 -0.004032 -0.374840   \n\n         54        55        56        57        58        59  \n0 -0.795483 -0.311172 -1.036772  0.077559 -0.159958  0.994259  \n1 -1.940811  0.080167  0.545410  0.572321 -0.859920 -1.719561  \n2 -0.252222 -2.164668  0.390431  2.035204 -1.431159  0.858288  \n3  1.619409  0.132433 -0.892519 -1.375540  0.448244 -0.067125  \n4  0.767200 -0.491973  2.029886 -2.633906  0.136485  0.482598  \n\n[5 rows x 60 columns]",
      "text/html": "<div>\n<style scoped>\n    .dataframe tbody tr th:only-of-type {\n        vertical-align: middle;\n    }\n\n    .dataframe tbody tr th {\n        vertical-align: top;\n    }\n\n    .dataframe thead th {\n        text-align: right;\n    }\n</style>\n<table border=\"1\" class=\"dataframe\">\n  <thead>\n    <tr style=\"text-align: right;\">\n      <th></th>\n      <th>0</th>\n      <th>1</th>\n      <th>2</th>\n      <th>3</th>\n      <th>4</th>\n      <th>5</th>\n      <th>6</th>\n      <th>7</th>\n      <th>8</th>\n      <th>9</th>\n      <th>...</th>\n      <th>50</th>\n      <th>51</th>\n      <th>52</th>\n      <th>53</th>\n      <th>54</th>\n      <th>55</th>\n      <th>56</th>\n      <th>57</th>\n      <th>58</th>\n      <th>59</th>\n    </tr>\n  </thead>\n  <tbody>\n    <tr>\n      <th>0</th>\n      <td>0.425412</td>\n      <td>0.963017</td>\n      <td>-1.171675</td>\n      <td>0.197261</td>\n      <td>-0.062037</td>\n      <td>-1.193000</td>\n      <td>1.147974</td>\n      <td>1.011126</td>\n      <td>-1.521791</td>\n      <td>0.483465</td>\n      <td>...</td>\n      <td>-0.133721</td>\n      <td>-0.304364</td>\n      <td>-1.226846</td>\n      <td>-0.042188</td>\n      <td>-0.795483</td>\n      <td>-0.311172</td>\n      <td>-1.036772</td>\n      <td>0.077559</td>\n      <td>-0.159958</td>\n      <td>0.994259</td>\n    </tr>\n    <tr>\n      <th>1</th>\n      <td>0.515463</td>\n      <td>-0.749762</td>\n      <td>0.311720</td>\n      <td>0.940127</td>\n      <td>0.787731</td>\n      <td>2.031914</td>\n      <td>1.352715</td>\n      <td>0.089727</td>\n      <td>-1.050671</td>\n      <td>1.944048</td>\n      <td>...</td>\n      <td>0.069429</td>\n      <td>0.190096</td>\n      <td>0.085250</td>\n      <td>0.461421</td>\n      <td>-1.940811</td>\n      <td>0.080167</td>\n      <td>0.545410</td>\n      <td>0.572321</td>\n      <td>-0.859920</td>\n      <td>-1.719561</td>\n    </tr>\n    <tr>\n      <th>2</th>\n      <td>0.641297</td>\n      <td>-0.797998</td>\n      <td>0.776563</td>\n      <td>1.258457</td>\n      <td>-0.457238</td>\n      <td>0.267825</td>\n      <td>0.038383</td>\n      <td>0.015826</td>\n      <td>-0.522692</td>\n      <td>-1.061474</td>\n      <td>...</td>\n      <td>0.177881</td>\n      <td>0.565500</td>\n      <td>1.413151</td>\n      <td>0.250258</td>\n      <td>-0.252222</td>\n      <td>-2.164668</td>\n      <td>0.390431</td>\n      <td>2.035204</td>\n      <td>-1.431159</td>\n      <td>0.858288</td>\n    </tr>\n    <tr>\n      <th>3</th>\n      <td>-1.502908</td>\n      <td>0.189141</td>\n      <td>0.397864</td>\n      <td>1.356587</td>\n      <td>-1.284925</td>\n      <td>-1.661080</td>\n      <td>0.101682</td>\n      <td>-0.787285</td>\n      <td>-0.957499</td>\n      <td>1.400472</td>\n      <td>...</td>\n      <td>-0.760409</td>\n      <td>-0.194333</td>\n      <td>-0.561055</td>\n      <td>-0.459244</td>\n      <td>1.619409</td>\n      <td>0.132433</td>\n      <td>-0.892519</td>\n      <td>-1.375540</td>\n      <td>0.448244</td>\n      <td>-0.067125</td>\n    </tr>\n    <tr>\n      <th>4</th>\n      <td>-1.054552</td>\n      <td>-0.698700</td>\n      <td>0.825328</td>\n      <td>0.291255</td>\n      <td>-0.648475</td>\n      <td>-0.710156</td>\n      <td>-0.966905</td>\n      <td>-0.514079</td>\n      <td>2.348331</td>\n      <td>0.231894</td>\n      <td>...</td>\n      <td>0.412633</td>\n      <td>-0.225907</td>\n      <td>-0.004032</td>\n      <td>-0.374840</td>\n      <td>0.767200</td>\n      <td>-0.491973</td>\n      <td>2.029886</td>\n      <td>-2.633906</td>\n      <td>0.136485</td>\n      <td>0.482598</td>\n    </tr>\n  </tbody>\n</table>\n<p>5 rows × 60 columns</p>\n</div>"
     },
     "metadata": {},
     "execution_count": 26
    }
   ],
   "source": [
    "# Lectura de informacion\n",
    "x = pd.read_csv('Parcail1_X.csv', header=None)\n",
    "y = pd.read_csv('Parcial1_Y .csv', header=None)\n",
    "x.head()"
   ]
  },
  {
   "cell_type": "code",
   "execution_count": 12,
   "metadata": {},
   "outputs": [
    {
     "output_type": "execute_result",
     "data": {
      "text/plain": "array([[ 0.42541166,  0.96301743, -1.17167547, ...,  0.07755909,\n        -0.15995802,  0.99425949],\n       [ 0.51546346, -0.74976178,  0.31171985, ...,  0.57232097,\n        -0.85992033, -1.71956075],\n       [ 0.64129686, -0.79799834,  0.77656316, ...,  2.0352044 ,\n        -1.43115861,  0.85828804],\n       ...,\n       [ 0.42391177,  0.92374974, -1.06935262, ...,  0.94379026,\n         1.2598448 ,  0.03095993],\n       [-0.62871511, -0.16392745,  0.22402612, ..., -1.22671381,\n         1.69275744, -0.44341126],\n       [-2.59928172,  1.85218779,  1.04874444, ...,  1.12590442,\n         0.08881562, -1.54771448]])"
     },
     "metadata": {},
     "execution_count": 12
    }
   ],
   "source": [
    "npData = np.array(x)\n",
    "npData"
   ]
  },
  {
   "cell_type": "code",
   "execution_count": 15,
   "metadata": {},
   "outputs": [
    {
     "output_type": "execute_result",
     "data": {
      "text/plain": "array([[ 3.49,  0.81, -0.6 , ..., -0.06,  0.04,  0.08],\n       [ 0.81,  2.19, -0.64, ..., -0.46, -0.29, -0.69],\n       [-0.6 , -0.64,  2.61, ...,  0.64,  0.74,  1.37],\n       ...,\n       [-0.06, -0.46,  0.64, ...,  2.87,  1.43,  1.01],\n       [ 0.04, -0.29,  0.74, ...,  1.43,  3.19,  0.99],\n       [ 0.08, -0.69,  1.37, ...,  1.01,  0.99,  2.92]])"
     },
     "metadata": {},
     "execution_count": 15
    }
   ],
   "source": [
    "s_menos_uno = np.linalg.inv(funciones_Estadisticas.Matriz_covarianzas(npData))\n",
    "s_menos_uno.round(2)"
   ]
  },
  {
   "cell_type": "code",
   "execution_count": 17,
   "metadata": {},
   "outputs": [
    {
     "output_type": "stream",
     "name": "stdout",
     "text": "[4.33184575 2.95739597 2.92262761 3.74806513 2.44436985 3.06566868\n 2.47899482 2.94658342 3.20404643 2.05042698 4.27349835 3.3307889\n 2.7739498  3.30876685 3.65501419 2.94687451 2.86341523 3.47418157\n 2.75643694 3.15141726 2.71659832 3.83245301 2.81374098 3.23555993\n 4.43238756 3.26918433 3.26343209 4.76344364 5.87466641 2.17428458\n 2.87492259 2.91494355 2.93448769 3.5066747  3.68617803 2.96672668\n 3.54651659 3.80179157 2.53258131 2.78477276 4.72925815 3.54523269\n 2.33094171 4.18648541 2.57677187 2.43796779 2.9976181  3.67301699\n 2.98157981 3.25298771 2.88642271 2.84481013 2.95217816 4.27931615\n 3.09701072 2.60065179 3.04149318 3.16179383 3.11009443 3.26997474]\n"
    }
   ],
   "source": [
    "DD = np.diag(s_menos_uno)*np.diag(funciones_Estadisticas.Matriz_covarianzas(npData))\n",
    "print(DD)"
   ]
  },
  {
   "cell_type": "code",
   "execution_count": 18,
   "metadata": {},
   "outputs": [
    {
     "output_type": "stream",
     "name": "stdout",
     "text": "[0.23084848 0.33813531 0.34215786 0.26680433 0.40910339 0.32619311\n 0.40338931 0.3393761  0.31210534 0.4877033  0.23400032 0.30022917\n 0.36049679 0.3022274  0.27359675 0.33934258 0.34923332 0.28783758\n 0.36278719 0.31731755 0.36810742 0.26092949 0.35539874 0.30906552\n 0.22561204 0.3058867  0.30642587 0.20993216 0.17022243 0.4599214\n 0.34783545 0.34305982 0.34077499 0.28517045 0.2712837  0.33707183\n 0.28196682 0.26303388 0.39485406 0.35909573 0.21144965 0.28206893\n 0.42901116 0.23886384 0.38808247 0.41017769 0.3335982  0.27225575\n 0.33539267 0.30740971 0.3464496  0.35151731 0.33873294 0.2336822\n 0.322892   0.38451899 0.32878588 0.31627616 0.32153365 0.30581276]\n"
    }
   ],
   "source": [
    "DD_inverso = DD**-1\n",
    "print(DD_inverso)"
   ]
  },
  {
   "cell_type": "code",
   "execution_count": 19,
   "metadata": {},
   "outputs": [
    {
     "output_type": "stream",
     "name": "stdout",
     "text": "[0.76915152 0.66186469 0.65784214 0.73319567 0.59089661 0.67380689\n 0.59661069 0.6606239  0.68789466 0.5122967  0.76599968 0.69977083\n 0.63950321 0.6977726  0.72640325 0.66065742 0.65076668 0.71216242\n 0.63721281 0.68268245 0.63189258 0.73907051 0.64460126 0.69093448\n 0.77438796 0.6941133  0.69357413 0.79006784 0.82977757 0.5400786\n 0.65216455 0.65694018 0.65922501 0.71482955 0.7287163  0.66292817\n 0.71803318 0.73696612 0.60514594 0.64090427 0.78855035 0.71793107\n 0.57098884 0.76113616 0.61191753 0.58982231 0.6664018  0.72774425\n 0.66460733 0.69259029 0.6535504  0.64848269 0.66126706 0.7663178\n 0.677108   0.61548101 0.67121412 0.68372384 0.67846635 0.69418724]\n"
    }
   ],
   "source": [
    "UNO_menos_DD_inverso = 1 - DD_inverso\n",
    "print(UNO_menos_DD_inverso)"
   ]
  },
  {
   "cell_type": "code",
   "execution_count": 23,
   "metadata": {},
   "outputs": [
    {
     "output_type": "execute_result",
     "data": {
      "text/plain": "28"
     },
     "metadata": {},
     "execution_count": 23
    }
   ],
   "source": [
    "maxindex = np.argmax(UNO_menos_DD_inverso)\n",
    "maximo = np.max(UNO_menos_DD_inverso)\n",
    "mayorCorr = list(x.columns)[maxindex]\n",
    "mayorCorr"
   ]
  },
  {
   "cell_type": "code",
   "execution_count": 25,
   "metadata": {},
   "outputs": [
    {
     "output_type": "stream",
     "name": "stdout",
     "text": "La variable con mayor correlacion multiple es: 28 con 0.8297775685232469\n"
    }
   ],
   "source": [
    "print('La variable con mayor correlacion multiple es: '+str(mayorCorr)+' con '+str(maximo))"
   ]
  },
  {
   "cell_type": "code",
   "execution_count": null,
   "metadata": {},
   "outputs": [],
   "source": [
    "model = smf.ols(\"pmisc ~ wfood + whouse + wmisc + pfood + phouse + totexp\", data)\n",
    "result = model.fit()\n",
    "print(result.summary())"
   ]
  }
 ],
 "metadata": {
  "language_info": {
   "codemirror_mode": {
    "name": "ipython",
    "version": 3
   },
   "file_extension": ".py",
   "mimetype": "text/x-python",
   "name": "python",
   "nbconvert_exporter": "python",
   "pygments_lexer": "ipython3",
   "version": "3.7.6-final"
  },
  "orig_nbformat": 2,
  "kernelspec": {
   "name": "python3",
   "display_name": "Python 3"
  }
 },
 "nbformat": 4,
 "nbformat_minor": 2
}